{
 "cells": [
  {
   "cell_type": "markdown",
   "metadata": {
    "pycharm": {
     "name": "#%% md\n"
    }
   },
   "source": [
    "Copyright **`(c)`** 2022 Giovanni Squillero `<squillero@polito.it>`  \n",
    "[`https://github.com/squillero/computational-intelligence`](https://github.com/squillero/computational-intelligence)  \n",
    "Free for personal or classroom use; see [`LICENSE.md`](https://github.com/squillero/computational-intelligence/blob/master/LICENSE.md) for details.  \n"
   ]
  },
  {
   "cell_type": "markdown",
   "metadata": {
    "pycharm": {
     "name": "#%%\n"
    }
   },
   "source": [
    "# Lab 3: Policy Search\n",
    "\n",
    "## Task\n",
    "\n",
    "Write agents able to play [*Nim*](https://en.wikipedia.org/wiki/Nim), with an arbitrary number of rows and an upper bound $k$ on the number of objects that can be removed in a turn (a.k.a., *subtraction game*).\n",
    "\n",
    "The player taking the last object wins.\n",
    "\n",
    "* Task3.1: An agent using fixed rules based on *nim-sum* (i.e., an *expert system*)\n",
    "* Task3.2: An agent using evolved rules\n",
    "* Task3.3: An agent using minmax\n",
    "* Task3.4: An agent using reinforcement learning\n",
    "\n",
    "## Instructions\n",
    "\n",
    "* Create the directory `lab3` inside the course repo \n",
    "* Put a `README.md` and your solution (all the files, code and auxiliary data if needed)\n",
    "\n",
    "## Notes\n",
    "\n",
    "* Working in group is not only allowed, but recommended (see: [Ubuntu](https://en.wikipedia.org/wiki/Ubuntu_philosophy) and [Cooperative Learning](https://files.eric.ed.gov/fulltext/EJ1096789.pdf)). Collaborations must be explicitly declared in the `README.md`.\n",
    "* [Yanking](https://www.emacswiki.org/emacs/KillingAndYanking) from the internet is allowed, but sources must be explicitly declared in the `README.md`.\n",
    "\n",
    "**Deadline**\n",
    "\n",
    "T.b.d.\n"
   ]
  },
  {
   "cell_type": "code",
   "execution_count": 18,
   "metadata": {},
   "outputs": [],
   "source": [
    "import logging\n",
    "from typing import Callable\n",
    "from collections import namedtuple\n",
    "import random"
   ]
  },
  {
   "cell_type": "code",
   "execution_count": 19,
   "metadata": {},
   "outputs": [],
   "source": [
    "Nimply = namedtuple(\"Nimply\", \"row, num_objects\")"
   ]
  },
  {
   "cell_type": "markdown",
   "metadata": {},
   "source": [
    "#### **Define Nim class**"
   ]
  },
  {
   "cell_type": "code",
   "execution_count": 20,
   "metadata": {},
   "outputs": [],
   "source": [
    "class Nim:\n",
    "    def __init__(self, num_rows: int, k: int = None) -> None:\n",
    "        \"\"\"\n",
    "        Initialize the Nim class by defining:\n",
    "        - num_rows: the number of rows the game will have\n",
    "        - k: the maximum number of elements that a player can remove\n",
    "        \"\"\"\n",
    "        self._rows = [i*2 + 1 for i in range(num_rows)]\n",
    "        self._k = k\n",
    "        self._winner = None\n",
    "\n",
    "    def __bool__(self):\n",
    "        return sum(self._rows) > 0\n",
    "\n",
    "    def __str__(self):\n",
    "        return \"<\" + \" \".join(str(_) for _ in self._rows) + \">\"\n",
    "\n",
    "    @property\n",
    "    def rows(self) -> tuple:\n",
    "        return tuple(self._rows)\n",
    "\n",
    "    @property\n",
    "    def k(self) -> int:\n",
    "        return self._k\n",
    "\n",
    "    def nimming(self, ply: Nimply) -> None:\n",
    "        row, num_objects = ply\n",
    "        assert self._rows[row] >= num_objects\n",
    "        assert self._k is None or num_objects <= self._k\n",
    "        self._rows[row] -= num_objects\n",
    "\n",
    "    def display_board(self) -> None:\n",
    "        for i in range(len(self._rows)):\n",
    "            print(f\"row[{i+1}]:  \\t\" + \"| \" * self._rows[i])\n",
    "\n",
    "    def set_winner(self, winner: int) -> None:\n",
    "        self._winner = winner\n",
    "\n",
    "    @property\n",
    "    def winner(self) -> int:\n",
    "        return self._winner"
   ]
  },
  {
   "cell_type": "markdown",
   "metadata": {},
   "source": [
    "#### Additional utility functions"
   ]
  },
  {
   "cell_type": "code",
   "execution_count": 37,
   "metadata": {},
   "outputs": [],
   "source": [
    "import functools\n",
    "from collections import Counter\n",
    "\n",
    "def calc_nimsum(rows: tuple) -> int:\n",
    "    return functools.reduce(lambda a, b: a ^ b, rows)\n",
    "\n",
    "def all_ones(board: Nim) -> bool:\n",
    "    counts = Counter(board.rows)\n",
    "    for idx, cnt in counts.items():\n",
    "        if idx == 0 or idx == 1:\n",
    "            continue\n",
    "        if cnt != 0:\n",
    "            return False\n",
    "    return True\n",
    "\n",
    "def game_over(board: Nim, players: tuple, turn: int) -> bool:\n",
    "    # The game is over when there are no objects left\n",
    "    obj_left = sum(board.rows)\n",
    "    logging.debug(f\"Count: {obj_left}\")\n",
    "    if obj_left > 0:\n",
    "        return False\n",
    "    logging.debug(f\"Game Over: {players[(turn + 1) % 2]} wins!\")\n",
    "    board.set_winner((turn + 1) % 2)\n",
    "    return True"
   ]
  },
  {
   "cell_type": "markdown",
   "metadata": {},
   "source": [
    "#### **Expert's Strategy**"
   ]
  },
  {
   "cell_type": "code",
   "execution_count": 22,
   "metadata": {},
   "outputs": [],
   "source": [
    "def expert_strategy(board: Nim) -> Nimply:\n",
    "\n",
    "    # Before checking nimsum, make sure that heap sizes are between 0 and k\n",
    "    if board.k is not None:\n",
    "        one_gt_k = False\n",
    "        for i in range(len(board.rows)):\n",
    "            # if a heap-size greater than k\n",
    "            if board.rows[i] > board.k:\n",
    "                one_gt_k = True\n",
    "                # Try to take number of objects n such that n mod (k+1) = 0\n",
    "                if board.rows[i] % (board.k + 1) != 0:\n",
    "                    ply = Nimply(i, board.rows[i] % (board.k + 1))\n",
    "                    logging.debug(f\"Expert removed {board.rows[i] % (board.k + 1)}, from row {i+1}\")\n",
    "                    return ply\n",
    "                # No optimal move, try with other heaps\n",
    "\n",
    "        # No ideal move, make random move\n",
    "        if one_gt_k:\n",
    "            logging.debug(f\"No ideal move found\")\n",
    "            # TODO: imporove strategy (take largest and remove one)\n",
    "            idx = board.rows.index(max(board.rows))\n",
    "            ply = Nimply(idx, board.k)\n",
    "            logging.debug(f\"Expert removed 1, from row {idx+1}\")\n",
    "            return ply\n",
    "\n",
    "\n",
    "    board_nimsum = calc_nimsum(board.rows)\n",
    "\n",
    "    # When the number of heaps with at least 2 objects is equal to 1\n",
    "    if functools.reduce(lambda acc, el: acc + 1 if el > 1 else acc, board.rows, 0) == 1:\n",
    "        # Count the number of heaps with one object\n",
    "        # if the number is odd...\n",
    "        if functools.reduce(lambda acc, el: acc + 1 if el == 1 else acc, board.rows, 0) % 2 != 0:\n",
    "            # ...take all but one of the \"non equal to one\" heap\n",
    "            for i in range(len(board.rows)):\n",
    "                if board.rows[i] != 0 and board.rows[i] != 1:\n",
    "                    ply = Nimply(i, board.rows[i]-1)\n",
    "                    logging.debug(f\"Expert removed {board.rows[i]-1}, from row {i+1}\")\n",
    "                    return ply\n",
    "        # if the number is even...\n",
    "        else:\n",
    "             # ...take all of the \"non equal to one\" heap\n",
    "            for i in range(len(board.rows)):\n",
    "                if board.rows[i] != 0 and  board.rows[i] != 1:\n",
    "                    ply = Nimply(i, board.rows[i])\n",
    "                    logging.debug(f\"Expert removed {board.rows[i]}, from row {i+1}\")\n",
    "                    return ply\n",
    "\n",
    "    # Check if all the remaining heaps are composed of one element\n",
    "    if all_ones(board):\n",
    "        for i in range(len(board.rows)):\n",
    "            if board.rows[i] == 1:\n",
    "                ply = Nimply(i, 1)\n",
    "                logging.debug(f\"Expert removed 1, from row {i+1}\")\n",
    "                return ply\n",
    "            \n",
    "    chosen_idx = None\n",
    "    for i in range(len(board.rows)): \n",
    "        logging.debug(f\"nimsum ({board_nimsum}) XOR row[{i}] ({board.rows[i]}) = {board_nimsum ^ board.rows[i]}\")\n",
    "        if board_nimsum ^ board.rows[i] < board.rows[i]:\n",
    "            chosen_idx = i\n",
    "            break\n",
    "\n",
    "    if chosen_idx is None:\n",
    "        logging.debug(f\"No ideal move found\")\n",
    "        # TODO: imporove strategy (take largest and remove one)\n",
    "        idx = board.rows.index(max(board.rows))\n",
    "        ply = Nimply(idx, 1)\n",
    "        logging.debug(f\"Expert removed 1, from row {idx+1}\")\n",
    "        return ply\n",
    "    else:\n",
    "        num_to_remove = board.rows[chosen_idx] - (board.rows[chosen_idx] ^ board_nimsum)\n",
    "        ply = Nimply(chosen_idx, num_to_remove)\n",
    "        logging.debug(f\"Expert removed {num_to_remove}, from row {chosen_idx+1}\")\n",
    "        return ply\n",
    "        "
   ]
  },
  {
   "cell_type": "markdown",
   "metadata": {},
   "source": [
    "### **Other hard-coded strategies**"
   ]
  },
  {
   "cell_type": "markdown",
   "metadata": {},
   "source": [
    "#### **SemiExpert A**\n",
    "Does not take k bound into account (if there is a row with more than k elements, chooses randomly)\n",
    "- *Not relevant with last instruction given by professor not to take k into account*"
   ]
  },
  {
   "cell_type": "code",
   "execution_count": 23,
   "metadata": {},
   "outputs": [],
   "source": [
    "def semiexpert_A_strategy(board: Nim) -> Nimply:\n",
    "\n",
    "    # Before checking nimsum, make sure that heap sizes are between 0 and k\n",
    "    if board.k is not None:\n",
    "        for i in range(len(board.rows)):\n",
    "            # if a heap-size greater than k\n",
    "            if board.rows[i] > board.k:\n",
    "                # Remove random number from that row\n",
    "                ply = Nimply(i, random.randint(1, board.k))\n",
    "                logging.debug(f\"SemiExpert A removed {board.rows[i] % (board.k + 1)}, from row {i+1}\")\n",
    "                return ply\n",
    "\n",
    "\n",
    "    board_nimsum = calc_nimsum(board.rows)\n",
    "\n",
    "    # When the number of heaps with at least 2 objects is equal to 1\n",
    "    if functools.reduce(lambda acc, el: acc + 1 if el > 1 else acc, board.rows, 0) == 1:\n",
    "        # Count the number of heaps with one object\n",
    "        # if the number is odd...\n",
    "        if functools.reduce(lambda acc, el: acc + 1 if el == 1 else acc, board.rows, 0) % 2 != 0:\n",
    "            # ...take all but one of the \"non equal to one\" heap\n",
    "            for i in range(len(board.rows)):\n",
    "                if board.rows[i] != 0 and board.rows[i] != 1:\n",
    "                    ply = Nimply(i, board.rows[i]-1)\n",
    "                    logging.debug(f\"SemiExpert A removed {board.rows[i]-1}, from row {i+1}\")\n",
    "                    return ply\n",
    "        # if the number is even...\n",
    "        else:\n",
    "             # ...take all of the \"non equal to one\" heap\n",
    "            for i in range(len(board.rows)):\n",
    "                if board.rows[i] != 0 and  board.rows[i] != 1:\n",
    "                    ply = Nimply(i, board.rows[i])\n",
    "                    logging.debug(f\"SemiExpert A removed {board.rows[i]}, from row {i+1}\")\n",
    "                    return ply\n",
    "\n",
    "    # Check if all the remaining heaps are composed of one element\n",
    "    if all_ones(board):\n",
    "        for i in range(len(board.rows)):\n",
    "            if board.rows[i] == 1:\n",
    "                ply = Nimply(i, 1)\n",
    "                logging.debug(f\"SemiExpert A removed 1, from row {i+1}\")\n",
    "                return ply\n",
    "            \n",
    "    chosen_idx = None\n",
    "    for i in range(len(board.rows)): \n",
    "        logging.debug(f\"nimsum ({board_nimsum}) XOR row[{i}] ({board.rows[i]}) = {board_nimsum ^ board.rows[i]}\")\n",
    "        if board_nimsum ^ board.rows[i] < board.rows[i]:\n",
    "            chosen_idx = i\n",
    "            break\n",
    "\n",
    "    if chosen_idx is None:\n",
    "        logging.debug(f\"No ideal move found\")\n",
    "        # TODO: imporove strategy (take largest and remove one)\n",
    "        idx = board.rows.index(max(board.rows))\n",
    "        ply = Nimply(idx, 1)\n",
    "        logging.debug(f\"SemiExpert A removed 1, from row {idx+1}\")\n",
    "        return ply\n",
    "    else:\n",
    "        num_to_remove = board.rows[chosen_idx] - (board.rows[chosen_idx] ^ board_nimsum)\n",
    "        ply = Nimply(chosen_idx, num_to_remove)\n",
    "        logging.debug(f\"SemiExpert A removed {num_to_remove}, from row {chosen_idx+1}\")\n",
    "        return ply"
   ]
  },
  {
   "cell_type": "markdown",
   "metadata": {},
   "source": [
    "#### **SemiExpert B**\n",
    "Does not take ending strategies into account\n",
    "- *Still too expert for evolution purposes*"
   ]
  },
  {
   "cell_type": "code",
   "execution_count": 24,
   "metadata": {},
   "outputs": [],
   "source": [
    "def semiexpert_B_strategy(board: Nim) -> Nimply:\n",
    "\n",
    "    # Before checking nimsum, make sure that heap sizes are between 0 and k\n",
    "    if board.k is not None:\n",
    "        opt_move = False\n",
    "        for i in range(len(board.rows)):\n",
    "            # if a heap-size greater than k\n",
    "            if board.rows[i] > board.k:\n",
    "                # Try to take number of objects n such that n mod (k+1) = 0\n",
    "                if board.rows[i] % (board.k + 1) != 0:\n",
    "                    ply = Nimply(i, board.rows[i] % (board.k + 1))\n",
    "                    logging.debug(f\"SemiExpert B removed {board.rows[i] % (board.k + 1)}, from row {i+1}\")\n",
    "                    opt_move = True\n",
    "                    return ply\n",
    "                # No optimal move, try with other heaps\n",
    "\n",
    "        # No ideal move, make random move\n",
    "        if not opt_move:\n",
    "            logging.debug(f\"No ideal move found\")\n",
    "            # TODO: imporove strategy (take largest and remove one)\n",
    "            idx = board.rows.index(max(board.rows))\n",
    "            ply = Nimply(idx, 1)\n",
    "            logging.debug(f\"SemiExpert B removed 1, from row {idx+1}\")\n",
    "            return ply\n",
    "\n",
    "\n",
    "    board_nimsum = calc_nimsum(board.rows)\n",
    "\n",
    "    chosen_idx = None\n",
    "    for i in range(len(board.rows)): \n",
    "        logging.debug(f\"nimsum ({board_nimsum}) XOR row[{i}] ({board.rows[i]}) = {board_nimsum ^ board.rows[i]}\")\n",
    "        if board_nimsum ^ board.rows[i] < board.rows[i]:\n",
    "            chosen_idx = i\n",
    "            break\n",
    "\n",
    "    if chosen_idx is None:\n",
    "        logging.debug(f\"No ideal move found\")\n",
    "        # TODO: imporove strategy (take largest and remove one)\n",
    "        idx = board.rows.index(max(board.rows))\n",
    "        ply = Nimply(idx, 1)\n",
    "        logging.debug(f\"SemiExpert B removed 1, from row {idx+1}\")\n",
    "        return ply\n",
    "    else:\n",
    "        num_to_remove = board.rows[chosen_idx] - (board.rows[chosen_idx] ^ board_nimsum)\n",
    "        ply = Nimply(chosen_idx, num_to_remove)\n",
    "        logging.debug(f\"SemiExpert B removed {num_to_remove}, from row {chosen_idx+1}\")\n",
    "        return ply"
   ]
  },
  {
   "cell_type": "markdown",
   "metadata": {},
   "source": [
    "#### **Pure Random**"
   ]
  },
  {
   "cell_type": "code",
   "execution_count": 25,
   "metadata": {},
   "outputs": [],
   "source": [
    "def pure_random(state: Nim) -> Nimply:\n",
    "    row = random.choice([r for r, c in enumerate(state.rows) if c > 0])\n",
    "    num_objects = random.randint(1, state.rows[row] if state.k is not None and state.rows[row] < state.k else state.k if state.k is not None else state.rows[row])\n",
    "    return Nimply(row, num_objects)"
   ]
  },
  {
   "cell_type": "markdown",
   "metadata": {},
   "source": [
    "#### Cook status\n",
    "Generate some sort of summary of the game"
   ]
  },
  {
   "cell_type": "code",
   "execution_count": 124,
   "metadata": {},
   "outputs": [],
   "source": [
    "def cook_status(state: Nim) -> dict:\n",
    "    cooked = dict()\n",
    "    cooked[\"possible_moves\"] = [\n",
    "        (r, o) for r, c in enumerate(state.rows) for o in range(1, c + 1) if state.k is None or o <= state.k\n",
    "    ]\n",
    "    cooked[\"active_rows_number\"] = sum(o > 0 for o in state.rows)\n",
    "    cooked[\"shortest_row\"] = min((x for x in enumerate(state.rows) if x[1] > 0), key=lambda y: y[1])[0]\n",
    "    cooked[\"longest_row\"] = max((x for x in enumerate(state.rows)), key=lambda y: y[1])[0]\n",
    "    cooked[\"nim_sum\"] = calc_nimsum(state.rows)\n",
    "    cooked[\"only_one_row_gt_one\"] = functools.reduce(lambda acc, el: acc + 1 if el > 1 else acc, state.rows, 0) == 1\n",
    "    cooked[\"active_rows_gt_one\"] = functools.reduce(lambda acc, el: acc + 1 if el > 1 else acc, state.rows, 0)\n",
    "    cooked[\"num_of_rows_eq_one\"] = functools.reduce(lambda acc, el: acc + 1 if el == 1 else acc, state.rows, 0)\n",
    "    cooked[\"all_rows_ones\"] = all_ones(state)\n",
    "    if state.k is not None:\n",
    "        cooked[\"num_rows_gt_k\"] = sum(o > state.k for o in state.rows)\n",
    "        \n",
    "\n",
    "    return cooked"
   ]
  },
  {
   "cell_type": "markdown",
   "metadata": {},
   "source": [
    "### **Level 0 Strategy**\n",
    "Aims at playing in such a way to allow the other to win\n",
    "(Evolutionary algorithm should learn it should take all elements from last row)"
   ]
  },
  {
   "cell_type": "code",
   "execution_count": 66,
   "metadata": {},
   "outputs": [],
   "source": [
    "def level_zero(state: Nim) -> Nimply:\n",
    "    data = cook_status(state)\n",
    "    if data[\"active_rows_number\"] == 1 and state.rows[data[\"shortest_row\"]] > 1:\n",
    "        return Nimply(data[\"shortest_row\"], state.rows[data[\"shortest_row\"]] - 1)\n",
    "    else:\n",
    "        return Nimply(data[\"longest_row\"], 1)"
   ]
  },
  {
   "cell_type": "code",
   "execution_count": null,
   "metadata": {},
   "outputs": [],
   "source": []
  },
  {
   "cell_type": "markdown",
   "metadata": {},
   "source": [
    "### **Level 2 Strategy**\n",
    "Random strategy is considered level one (given it wins on average over level 0)\n",
    "- This strategy takes into account almost final scenarios (where all rows have one or no elements and only one has more than one element)\n",
    "- It also wins if only one row is left\n",
    "- In other scenarios tries to make some \"silly\" decisions"
   ]
  },
  {
   "cell_type": "code",
   "execution_count": 133,
   "metadata": {},
   "outputs": [],
   "source": [
    "def level_two(state: Nim) -> Nimply:\n",
    "    data = cook_status(state)\n",
    "    if data[\"active_rows_number\"] == 1 and state.rows[data[\"shortest_row\"]] > 1:\n",
    "        return Nimply(data[\"shortest_row\"], state.rows[data[\"shortest_row\"]])\n",
    "    elif data[\"only_one_row_gt_one\"] and data[\"num_of_rows_eq_one\"] % 2 == 0:\n",
    "        for i in range(len(state.rows)):\n",
    "            if state.rows[i] != 0 and  state.rows[i] != 1:\n",
    "                return Nimply(i, state.rows[i])\n",
    "    elif data[\"only_one_row_gt_one\"] and data[\"num_of_rows_eq_one\"] % 2 != 0: \n",
    "        for i in range(len(state.rows)):\n",
    "            if state.rows[i] != 0 and  state.rows[i] != 1:\n",
    "                return Nimply(i, state.rows[i] - 1)\n",
    "    else:\n",
    "        if state.rows[data[\"longest_row\"]] > 2:\n",
    "            return Nimply(data[\"longest_row\"], state.rows[data[\"longest_row\"]] - 2)\n",
    "        elif state.rows[data[\"longest_row\"]] == 2:\n",
    "            return Nimply(data[\"longest_row\"], state.rows[data[\"longest_row\"]] - 1)\n",
    "        else:\n",
    "            return Nimply(data[\"longest_row\"], 1)"
   ]
  },
  {
   "cell_type": "markdown",
   "metadata": {},
   "source": [
    "### **Level 3 Strategy**\n",
    "As level 2 stategy, but:\n",
    "- Aims to reach the configuration to use \"final scenario\" conditions (i.e tries to have an even or odd number of rows wth single object by leaving two objects in the rows)"
   ]
  },
  {
   "cell_type": "code",
   "execution_count": 134,
   "metadata": {},
   "outputs": [],
   "source": [
    "def level_three(state: Nim) -> Nimply:\n",
    "    data = cook_status(state)\n",
    "    if data[\"active_rows_number\"] == 1 and state.rows[data[\"shortest_row\"]] > 1:\n",
    "        return Nimply(data[\"shortest_row\"], state.rows[data[\"shortest_row\"]])\n",
    "    elif data[\"only_one_row_gt_one\"] and data[\"num_of_rows_eq_one\"] % 2 == 0:\n",
    "        for i in range(len(state.rows)):\n",
    "            if state.rows[i] != 0 and  state.rows[i] != 1:\n",
    "                return Nimply(i, state.rows[i])\n",
    "    elif data[\"only_one_row_gt_one\"] and data[\"num_of_rows_eq_one\"] % 2 != 0: \n",
    "        for i in range(len(state.rows)):\n",
    "            if state.rows[i] != 0 and  state.rows[i] != 1:\n",
    "                return Nimply(i, state.rows[i] - 1)\n",
    "    else:\n",
    "        return Nimply(data[\"longest_row\"], 1)"
   ]
  },
  {
   "cell_type": "markdown",
   "metadata": {},
   "source": [
    "#### **Human Move** (requires input)"
   ]
  },
  {
   "cell_type": "code",
   "execution_count": 135,
   "metadata": {},
   "outputs": [],
   "source": [
    "def make_human_move(board: Nim) -> Nimply:\n",
    "    selected_row = -1\n",
    "    while selected_row < 0 or selected_row > len(board.rows) or board.rows[selected_row] == 0:\n",
    "        selected_row = int(input(f\"Select heap from which you want to remove objects [1-{len(board.rows)}]\")) - 1\n",
    "        if selected_row < 0 or selected_row > len(board.rows) or board.rows[selected_row] == 0:\n",
    "            print(f\"Invalid row number (the row number might be correct, but there are no objects left in row)\\n\")\n",
    "    \n",
    "    num_objs = 0\n",
    "    while num_objs <= 0 or num_objs > board.rows[selected_row]:\n",
    "        num_objs = int(input(f\"How many objects do you want to remove [1-{board.rows[selected_row]}]?\"))\n",
    "        if num_objs <= 0 or num_objs > board.rows[selected_row]:\n",
    "            print(f\"Invalid number of objects to be removed\\n\")\n",
    "    \n",
    "    ply = Nimply(selected_row, num_objs)\n",
    "    print(f\"You have removed {num_objs}, from row {selected_row+1}\")\n",
    "    return ply"
   ]
  },
  {
   "cell_type": "markdown",
   "metadata": {},
   "source": [
    "### **Play Match**"
   ]
  },
  {
   "cell_type": "code",
   "execution_count": 28,
   "metadata": {},
   "outputs": [],
   "source": [
    "def play_nim(num_of_heaps: int, a: Callable, b: Callable, k = None, display_board=False) -> None:\n",
    "    nim = Nim(num_of_heaps, k)\n",
    "    if display_board:\n",
    "        nim.display_board()\n",
    "    strategies = (a, b)\n",
    "    \n",
    "    players = ['a', 'b']\n",
    "    turn = 0\n",
    "    while not game_over(nim, players, turn):\n",
    "        ply = strategies[turn](nim)\n",
    "        nim.nimming(ply)\n",
    "        if display_board:\n",
    "            nim.display_board()\n",
    "        turn = (turn + 1) % 2\n",
    "    return nim.winner"
   ]
  },
  {
   "cell_type": "code",
   "execution_count": 29,
   "metadata": {},
   "outputs": [
    {
     "name": "stdout",
     "output_type": "stream",
     "text": [
      "Game Over: a wins!\n"
     ]
    },
    {
     "data": {
      "text/plain": [
       "0"
      ]
     },
     "execution_count": 29,
     "metadata": {},
     "output_type": "execute_result"
    }
   ],
   "source": [
    "logging.getLogger().setLevel(logging.INFO)\n",
    "play_nim(20, expert_strategy, pure_random)"
   ]
  },
  {
   "cell_type": "markdown",
   "metadata": {},
   "source": [
    "### **Evaluation**"
   ]
  },
  {
   "cell_type": "code",
   "execution_count": 136,
   "metadata": {},
   "outputs": [],
   "source": [
    "NUM_MATCHES = 100\n",
    "\n",
    "def evaluate(strategy: Callable, other_strategy: Callable, k=None, nim_size=10) -> float:\n",
    "    opponents = (strategy, other_strategy)\n",
    "    won_1 = 0\n",
    "    won_2 = 0\n",
    "\n",
    "    for _ in range(NUM_MATCHES):\n",
    "        winner_first = play_nim(nim_size, strategy, other_strategy, k)\n",
    "        winner_second = play_nim(nim_size, other_strategy, strategy, k)\n",
    "        if winner_first == 0:\n",
    "            won_1 += 1\n",
    "        if winner_second == 1:\n",
    "            won_2 += 1\n",
    "    return won_1 / NUM_MATCHES, won_2 / NUM_MATCHES"
   ]
  },
  {
   "cell_type": "code",
   "execution_count": 138,
   "metadata": {},
   "outputs": [
    {
     "name": "stdout",
     "output_type": "stream",
     "text": [
      "eval for nim_size 5: (0.96, 0.97)\n",
      "eval for nim_size 10: (0.96, 0.94)\n",
      "eval for nim_size 13: (0.95, 0.91)\n",
      "eval for nim_size 15: (0.93, 0.95)\n",
      "eval for nim_size 20: (0.92, 0.93)\n"
     ]
    },
    {
     "data": {
      "text/plain": [
       "(0.9440000000000002, 0.9399999999999998)"
      ]
     },
     "execution_count": 138,
     "metadata": {},
     "output_type": "execute_result"
    }
   ],
   "source": [
    "NIM_SIZE = [5, 10, 13, 15, 20]\n",
    "logging.getLogger().setLevel(logging.INFO)\n",
    "\n",
    "sum_eval_first = 0\n",
    "sum_eval_second = 0\n",
    "for nim_size in NIM_SIZE: \n",
    "    eval = evaluate(level_three, pure_random, k=None, nim_size=nim_size)\n",
    "    print(f\"eval for nim_size {nim_size}: {eval}\")\n",
    "    sum_eval_first += eval[0]\n",
    "    sum_eval_second += eval[1]\n",
    "avg_eval = sum_eval_first / len(NIM_SIZE), sum_eval_second / len(NIM_SIZE)\n",
    "avg_eval"
   ]
  },
  {
   "cell_type": "markdown",
   "metadata": {},
   "source": [
    "### **Play Expert PC against Human Game**"
   ]
  },
  {
   "cell_type": "code",
   "execution_count": null,
   "metadata": {},
   "outputs": [],
   "source": [
    "import time\n",
    "\n",
    "def play_nim_human(num_of_heaps: int, first='human', display_board=False) -> None:\n",
    "    nim = Nim(num_of_heaps)\n",
    "    if display_board:\n",
    "        nim.display_board()\n",
    "\n",
    "    players = ['pc', 'human']\n",
    "\n",
    "    if first == 'human':\n",
    "        turn = 1\n",
    "    else:\n",
    "        turn = 0\n",
    "\n",
    "    while not game_over(nim, players, turn):\n",
    "        if players[turn] == 'pc':\n",
    "            time.sleep(1)\n",
    "            ply = expert_strategy(nim)\n",
    "            nim.nimming(ply)\n",
    "            if display_board:\n",
    "                nim.display_board()\n",
    "        if players[turn] == 'human':\n",
    "            ply = make_human_move(nim)\n",
    "            nim.nimming(ply)\n",
    "            if display_board:\n",
    "                nim.display_board()\n",
    "        print(\"\\n\", end=\"\\r\")\n",
    "        turn = (turn + 1) % 2\n",
    "\n",
    "    return"
   ]
  },
  {
   "cell_type": "code",
   "execution_count": null,
   "metadata": {},
   "outputs": [],
   "source": [
    "logging.getLogger().setLevel(logging.DEBUG)\n",
    "play_nim_human(4, first='pc')"
   ]
  }
 ],
 "metadata": {
  "kernelspec": {
   "display_name": "Python 3.10.2 ('computational-intelligence-22-23-44TTMWXr-py3.10')",
   "language": "python",
   "name": "python3"
  },
  "language_info": {
   "codemirror_mode": {
    "name": "ipython",
    "version": 3
   },
   "file_extension": ".py",
   "mimetype": "text/x-python",
   "name": "python",
   "nbconvert_exporter": "python",
   "pygments_lexer": "ipython3",
   "version": "3.10.2"
  },
  "vscode": {
   "interpreter": {
    "hash": "068f310d441e9b183eeddd52b922178ff1d98c531a04d923af98ed3231a7b09d"
   }
  }
 },
 "nbformat": 4,
 "nbformat_minor": 2
}
