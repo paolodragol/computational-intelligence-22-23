{
 "cells": [
  {
   "cell_type": "markdown",
   "metadata": {},
   "source": [
    "# Lab 3: Policy Search\n",
    "\n",
    "## Task\n",
    "\n",
    "Write agents able to play [*Nim*](https://en.wikipedia.org/wiki/Nim), with an arbitrary number of rows and an upper bound $k$ on the number of objects that can be removed in a turn (a.k.a., *subtraction game*).\n",
    "\n",
    "The player taking the last object wins.\n",
    "\n",
    "* Task3.3: An agent using minmax"
   ]
  },
  {
   "cell_type": "code",
   "execution_count": 113,
   "metadata": {},
   "outputs": [],
   "source": [
    "from nim_utils import Nimply, Nim, evaluate, pure_random, level_three, expert_strategy\n",
    "from functools import cache"
   ]
  },
  {
   "cell_type": "markdown",
   "metadata": {},
   "source": [
    "## **MinMax for Nim**"
   ]
  },
  {
   "cell_type": "code",
   "execution_count": 114,
   "metadata": {},
   "outputs": [],
   "source": [
    "MAX_DEPTH = 35 # defined empirically for a \"fast\" game\n",
    "\n",
    "# Check terminal state\n",
    "def check_teminal(rows, is_maximizing) -> int:\n",
    "    if sum(rows) == 0:\n",
    "        return -1 if is_maximizing else 1\n",
    "\n",
    "# Get moves\n",
    "def possible_new_states(rows):\n",
    "    checked = set()\n",
    "    for row, num_objs in enumerate(rows):\n",
    "        for remain in range(num_objs):\n",
    "            tuple_to_return = rows[:row] + (remain,) + rows[row + 1 :]\n",
    "            if tuple(sorted(tuple_to_return)) in checked:\n",
    "                continue\n",
    "            else:\n",
    "                checked.add(tuple(sorted(tuple_to_return)))\n",
    "                yield tuple_to_return \n",
    "\n",
    "# Minmax\n",
    "@cache\n",
    "def minmax(rows, depth, is_maximizing, alpha=-1, beta=1):\n",
    "    if (score := check_teminal(rows, is_maximizing)) is not None:\n",
    "        return score\n",
    "    # Over a certain depth, return zero\n",
    "    if depth >= MAX_DEPTH:\n",
    "        return 0\n",
    "        \n",
    "    scores = []\n",
    "    for new_state in possible_new_states(rows):\n",
    "        score = minmax(new_state, depth+1, not is_maximizing, alpha, beta)\n",
    "        if score == 0:\n",
    "            return 0\n",
    "        scores.append(score)\n",
    "        if is_maximizing:\n",
    "            # Update alpha: min score of maximizing player\n",
    "            alpha = max(alpha, score)\n",
    "        else:\n",
    "            # Update beta: maximum score of minimizing player\n",
    "            beta = min(beta, score)\n",
    "        # Do not consider further moves (maximizer already found a better solution than any of the unexplored ones)\n",
    "        if beta <= alpha:\n",
    "            break\n",
    "    return (max if is_maximizing else min)(scores)\n",
    "    \n",
    "# Best move\n",
    "def best_move(state: Nim) -> Nimply:\n",
    "    maximum =  max(\n",
    "        (minmax(new_state, depth=0, is_maximizing=False), new_state) for new_state in possible_new_states(state.rows)\n",
    "    )\n",
    "    return maximum if maximum != 0 else None"
   ]
  },
  {
   "cell_type": "markdown",
   "metadata": {},
   "source": [
    "### **MinMax Strategy**"
   ]
  },
  {
   "cell_type": "code",
   "execution_count": 115,
   "metadata": {},
   "outputs": [],
   "source": [
    "def minmax_strategy(board: Nim) -> Nimply:\n",
    "    best = best_move(board) \n",
    "    if best is not None:\n",
    "        _, new_state = best\n",
    "        for idx, (curr_row, new_row) in enumerate(zip(board.rows, new_state)):\n",
    "            if curr_row != new_row:\n",
    "                return Nimply(idx, curr_row - new_row)\n",
    "    else:\n",
    "        idx = board.rows.index(max(board.rows))\n",
    "        return Nimply(idx, 1)\n"
   ]
  },
  {
   "attachments": {},
   "cell_type": "markdown",
   "metadata": {},
   "source": [
    "#### Play \"small\" games against different strategies"
   ]
  },
  {
   "cell_type": "code",
   "execution_count": 116,
   "metadata": {},
   "outputs": [
    {
     "name": "stdout",
     "output_type": "stream",
     "text": [
      "(1.0, 1.0)\n",
      "CacheInfo(hits=120039, misses=25111, maxsize=None, currsize=25111)\n",
      "(1.0, 0.0)\n",
      "CacheInfo(hits=2906528, misses=442590, maxsize=None, currsize=442590)\n",
      "(1.0, 1.0)\n",
      "CacheInfo(hits=3196717, misses=481936, maxsize=None, currsize=481936)\n"
     ]
    }
   ],
   "source": [
    "print(evaluate(minmax_strategy, level_three, k=None, nim_size=5))\n",
    "print(minmax.cache_info())\n",
    "print(evaluate(minmax_strategy, expert_strategy, k=None, nim_size=6))\n",
    "print(minmax.cache_info())\n",
    "print(evaluate(minmax_strategy, pure_random, k=None, nim_size=6))\n",
    "print(minmax.cache_info())"
   ]
  },
  {
   "attachments": {},
   "cell_type": "markdown",
   "metadata": {},
   "source": [
    "#### Play \"larger\" games against different strategies"
   ]
  },
  {
   "cell_type": "code",
   "execution_count": 117,
   "metadata": {},
   "outputs": [
    {
     "name": "stdout",
     "output_type": "stream",
     "text": [
      "(1.0, 1.0)\n",
      "CacheInfo(hits=14517421, misses=2161519, maxsize=None, currsize=2161519)\n",
      "(0.0, 0.0)\n",
      "CacheInfo(hits=18557085, misses=2737241, maxsize=None, currsize=2737241)\n",
      "(1.0, 1.0)\n",
      "CacheInfo(hits=169800770, misses=25838002, maxsize=None, currsize=25838002)\n"
     ]
    }
   ],
   "source": [
    "print(evaluate(minmax_strategy, level_three, k=None, nim_size=7))\n",
    "print(minmax.cache_info())\n",
    "print(evaluate(minmax_strategy, expert_strategy, k=None, nim_size=8))\n",
    "print(minmax.cache_info())\n",
    "print(evaluate(minmax_strategy, pure_random, k=None, nim_size=10))\n",
    "print(minmax.cache_info())"
   ]
  },
  {
   "cell_type": "code",
   "execution_count": null,
   "metadata": {},
   "outputs": [],
   "source": []
  }
 ],
 "metadata": {
  "kernelspec": {
   "display_name": "Python 3.10.2 ('computational-intelligence-22-23-44TTMWXr-py3.10')",
   "language": "python",
   "name": "python3"
  },
  "language_info": {
   "codemirror_mode": {
    "name": "ipython",
    "version": 3
   },
   "file_extension": ".py",
   "mimetype": "text/x-python",
   "name": "python",
   "nbconvert_exporter": "python",
   "pygments_lexer": "ipython3",
   "version": "3.10.2 (tags/v3.10.2:a58ebcc, Jan 17 2022, 14:12:15) [MSC v.1929 64 bit (AMD64)]"
  },
  "orig_nbformat": 4,
  "vscode": {
   "interpreter": {
    "hash": "068f310d441e9b183eeddd52b922178ff1d98c531a04d923af98ed3231a7b09d"
   }
  }
 },
 "nbformat": 4,
 "nbformat_minor": 2
}
