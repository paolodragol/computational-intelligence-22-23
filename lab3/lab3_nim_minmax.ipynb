{
 "cells": [
  {
   "cell_type": "markdown",
   "metadata": {},
   "source": [
    "# Lab 3: Policy Search\n",
    "\n",
    "## Task\n",
    "\n",
    "Write agents able to play [*Nim*](https://en.wikipedia.org/wiki/Nim), with an arbitrary number of rows and an upper bound $k$ on the number of objects that can be removed in a turn (a.k.a., *subtraction game*).\n",
    "\n",
    "The player taking the last object wins.\n",
    "\n",
    "* Task3.3: An agent using minmax"
   ]
  },
  {
   "cell_type": "code",
   "execution_count": 79,
   "metadata": {},
   "outputs": [],
   "source": [
    "from nim_utils import Nimply, Nim \n",
    "from functools import lru_cache"
   ]
  },
  {
   "cell_type": "markdown",
   "metadata": {},
   "source": [
    "## **MinMax for Nim**"
   ]
  },
  {
   "cell_type": "code",
   "execution_count": 87,
   "metadata": {},
   "outputs": [],
   "source": [
    "# Check terminal state\n",
    "def check_teminal(rows, is_maximizing) -> int:\n",
    "    if sum(rows) == 0:\n",
    "        return -1 if is_maximizing else 1\n",
    "\n",
    "# Get moves\n",
    "def possible_new_states(rows):\n",
    "    # row order is not imortant, to avoid different symmetrical solutions, order rows\n",
    "    sorted_rows = tuple(sorted(rows)) \n",
    "    for row, num_objs in enumerate(sorted_rows):\n",
    "        for remain in range(num_objs):\n",
    "            yield sorted_rows[:row] + (remain,) + sorted_rows[row + 1 :]\n",
    "\n",
    "# Minmax\n",
    "@lru_cache\n",
    "def minmax(rows, is_maximizing, alpha=-1, beta=1) -> Nimply:\n",
    "    if (score := check_teminal(rows, is_maximizing)) is not None:\n",
    "        return score\n",
    "\n",
    "    scores = []\n",
    "    for new_state in possible_new_states(rows):\n",
    "        scores.append(\n",
    "            score := minmax(new_state, not is_maximizing, alpha, beta)\n",
    "        )\n",
    "        if is_maximizing:\n",
    "            # Update alpha: min score of maximizing player\n",
    "            alpha = max(alpha, score)\n",
    "        else:\n",
    "            # Update beta: maximum score of minimizing player\n",
    "            beta = min(beta, score)\n",
    "        # Do not consider further moves (maximizer already found a better solution than any of the unexplored ones)\n",
    "        if beta <= alpha:\n",
    "            break\n",
    "    return (max if is_maximizing else min)(scores)\n",
    "    \n",
    "\n",
    "# Best move\n",
    "def best_move(state: Nim) -> Nimply:\n",
    "    return max(\n",
    "        (minmax(new_state, is_maximizing=False), new_state) for new_state in possible_new_states(state.rows)\n",
    "    )"
   ]
  },
  {
   "cell_type": "markdown",
   "metadata": {},
   "source": [
    "### **MinMax Strategy**"
   ]
  },
  {
   "cell_type": "code",
   "execution_count": 95,
   "metadata": {},
   "outputs": [],
   "source": [
    "def minmax_strategy(board: Nim) -> Nimply:\n",
    "    _, new_state = best_move(board)\n",
    "    for idx, (curr_row, new_row) in enumerate(zip(board.rows, new_state)):\n",
    "        print(curr_row, new_row)\n",
    "        if curr_row != new_row:\n",
    "            return Nimply(idx, curr_row - new_row)\n"
   ]
  },
  {
   "cell_type": "code",
   "execution_count": 96,
   "metadata": {},
   "outputs": [
    {
     "name": "stdout",
     "output_type": "stream",
     "text": [
      "1 1\n",
      "3 3\n",
      "5 5\n",
      "7 6\n"
     ]
    },
    {
     "data": {
      "text/plain": [
       "Nimply(row=3, num_objects=1)"
      ]
     },
     "execution_count": 96,
     "metadata": {},
     "output_type": "execute_result"
    }
   ],
   "source": [
    "minmax_strategy(nim)"
   ]
  },
  {
   "cell_type": "code",
   "execution_count": null,
   "metadata": {},
   "outputs": [],
   "source": []
  }
 ],
 "metadata": {
  "kernelspec": {
   "display_name": "Python 3.10.2 ('computational-intelligence-22-23-44TTMWXr-py3.10')",
   "language": "python",
   "name": "python3"
  },
  "language_info": {
   "codemirror_mode": {
    "name": "ipython",
    "version": 3
   },
   "file_extension": ".py",
   "mimetype": "text/x-python",
   "name": "python",
   "nbconvert_exporter": "python",
   "pygments_lexer": "ipython3",
   "version": "3.10.2"
  },
  "orig_nbformat": 4,
  "vscode": {
   "interpreter": {
    "hash": "068f310d441e9b183eeddd52b922178ff1d98c531a04d923af98ed3231a7b09d"
   }
  }
 },
 "nbformat": 4,
 "nbformat_minor": 2
}
