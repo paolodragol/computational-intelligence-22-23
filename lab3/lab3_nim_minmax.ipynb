{
 "cells": [
  {
   "cell_type": "markdown",
   "metadata": {},
   "source": [
    "# Lab 3: Policy Search\n",
    "\n",
    "## Task\n",
    "\n",
    "Write agents able to play [*Nim*](https://en.wikipedia.org/wiki/Nim), with an arbitrary number of rows and an upper bound $k$ on the number of objects that can be removed in a turn (a.k.a., *subtraction game*).\n",
    "\n",
    "The player taking the last object wins.\n",
    "\n",
    "* Task3.3: An agent using minmax"
   ]
  },
  {
   "cell_type": "code",
   "execution_count": 79,
   "metadata": {},
   "outputs": [],
   "source": [
    "from nim_utils import Nimply, Nim \n",
    "from functools import lru_cache"
   ]
  },
  {
   "cell_type": "code",
   "execution_count": 85,
   "metadata": {},
   "outputs": [],
   "source": [
    "# Check terminal state\n",
    "def check_teminal(rows, is_maximizing) -> int:\n",
    "    if sum(rows) == 0:\n",
    "        return -1 if is_maximizing else 1\n",
    "\n",
    "# Get moves\n",
    "def possible_new_states(rows):\n",
    "    # row order is not imortant, to avoid different symmetrical solutions, order rows\n",
    "    sorted_rows = tuple(sorted(rows)) \n",
    "    for row, num_objs in enumerate(sorted_rows):\n",
    "        for remain in range(num_objs):\n",
    "            yield sorted_rows[:row] + (remain,) + sorted_rows[row + 1 :]\n",
    "\n",
    "# Minmax\n",
    "@lru_cache\n",
    "def minmax(rows, is_maximizing) -> Nimply:\n",
    "    if (score := check_teminal(rows, is_maximizing)) is not None:\n",
    "        return score\n",
    "\n",
    "    return (max if is_maximizing else min)(\n",
    "        minmax(new_state, is_maximizing=not is_maximizing) for new_state in possible_new_states(rows)\n",
    "        )\n",
    "\n",
    "# Best move\n",
    "def best_move(state: Nim) -> Nimply:\n",
    "    return max(\n",
    "        (minmax(new_state, is_maximizing=False), new_state) for new_state in possible_new_states(state.rows)\n",
    "    )"
   ]
  },
  {
   "cell_type": "code",
   "execution_count": 86,
   "metadata": {},
   "outputs": [
    {
     "ename": "KeyboardInterrupt",
     "evalue": "",
     "output_type": "error",
     "traceback": [
      "\u001b[1;31m---------------------------------------------------------------------------\u001b[0m",
      "\u001b[1;31mKeyboardInterrupt\u001b[0m                         Traceback (most recent call last)",
      "Cell \u001b[1;32mIn [86], line 3\u001b[0m\n\u001b[0;32m      1\u001b[0m nim \u001b[39m=\u001b[39m Nim(\u001b[39m5\u001b[39m)\n\u001b[1;32m----> 3\u001b[0m best_move(nim)\n",
      "Cell \u001b[1;32mIn [85], line 26\u001b[0m, in \u001b[0;36mbest_move\u001b[1;34m(state)\u001b[0m\n\u001b[0;32m     25\u001b[0m \u001b[39mdef\u001b[39;00m \u001b[39mbest_move\u001b[39m(state: Nim) \u001b[39m-\u001b[39m\u001b[39m>\u001b[39m Nimply:\n\u001b[1;32m---> 26\u001b[0m     \u001b[39mreturn\u001b[39;00m \u001b[39mmax\u001b[39;49m(\n\u001b[0;32m     27\u001b[0m         (minmax(new_state, is_maximizing\u001b[39m=\u001b[39;49m\u001b[39mFalse\u001b[39;49;00m), new_state) \u001b[39mfor\u001b[39;49;00m new_state \u001b[39min\u001b[39;49;00m possible_new_states(state\u001b[39m.\u001b[39;49mrows)\n\u001b[0;32m     28\u001b[0m     )\n",
      "Cell \u001b[1;32mIn [85], line 27\u001b[0m, in \u001b[0;36m<genexpr>\u001b[1;34m(.0)\u001b[0m\n\u001b[0;32m     25\u001b[0m \u001b[39mdef\u001b[39;00m \u001b[39mbest_move\u001b[39m(state: Nim) \u001b[39m-\u001b[39m\u001b[39m>\u001b[39m Nimply:\n\u001b[0;32m     26\u001b[0m     \u001b[39mreturn\u001b[39;00m \u001b[39mmax\u001b[39m(\n\u001b[1;32m---> 27\u001b[0m         (minmax(new_state, is_maximizing\u001b[39m=\u001b[39;49m\u001b[39mFalse\u001b[39;49;00m), new_state) \u001b[39mfor\u001b[39;00m new_state \u001b[39min\u001b[39;00m possible_new_states(state\u001b[39m.\u001b[39mrows)\n\u001b[0;32m     28\u001b[0m     )\n",
      "Cell \u001b[1;32mIn [85], line 20\u001b[0m, in \u001b[0;36mminmax\u001b[1;34m(rows, is_maximizing)\u001b[0m\n\u001b[0;32m     17\u001b[0m \u001b[39mif\u001b[39;00m (score \u001b[39m:=\u001b[39m check_teminal(rows, is_maximizing)) \u001b[39mis\u001b[39;00m \u001b[39mnot\u001b[39;00m \u001b[39mNone\u001b[39;00m:\n\u001b[0;32m     18\u001b[0m     \u001b[39mreturn\u001b[39;00m score\n\u001b[1;32m---> 20\u001b[0m \u001b[39mreturn\u001b[39;00m (\u001b[39mmax\u001b[39;49m \u001b[39mif\u001b[39;49;00m is_maximizing \u001b[39melse\u001b[39;49;00m \u001b[39mmin\u001b[39;49m)(\n\u001b[0;32m     21\u001b[0m     minmax(new_state, is_maximizing\u001b[39m=\u001b[39;49m\u001b[39mnot\u001b[39;49;00m is_maximizing) \u001b[39mfor\u001b[39;49;00m new_state \u001b[39min\u001b[39;49;00m possible_new_states(rows)\n\u001b[0;32m     22\u001b[0m     )\n",
      "Cell \u001b[1;32mIn [85], line 21\u001b[0m, in \u001b[0;36m<genexpr>\u001b[1;34m(.0)\u001b[0m\n\u001b[0;32m     17\u001b[0m \u001b[39mif\u001b[39;00m (score \u001b[39m:=\u001b[39m check_teminal(rows, is_maximizing)) \u001b[39mis\u001b[39;00m \u001b[39mnot\u001b[39;00m \u001b[39mNone\u001b[39;00m:\n\u001b[0;32m     18\u001b[0m     \u001b[39mreturn\u001b[39;00m score\n\u001b[0;32m     20\u001b[0m \u001b[39mreturn\u001b[39;00m (\u001b[39mmax\u001b[39m \u001b[39mif\u001b[39;00m is_maximizing \u001b[39melse\u001b[39;00m \u001b[39mmin\u001b[39m)(\n\u001b[1;32m---> 21\u001b[0m     minmax(new_state, is_maximizing\u001b[39m=\u001b[39;49m\u001b[39mnot\u001b[39;49;00m is_maximizing) \u001b[39mfor\u001b[39;00m new_state \u001b[39min\u001b[39;00m possible_new_states(rows)\n\u001b[0;32m     22\u001b[0m     )\n",
      "Cell \u001b[1;32mIn [85], line 20\u001b[0m, in \u001b[0;36mminmax\u001b[1;34m(rows, is_maximizing)\u001b[0m\n\u001b[0;32m     17\u001b[0m \u001b[39mif\u001b[39;00m (score \u001b[39m:=\u001b[39m check_teminal(rows, is_maximizing)) \u001b[39mis\u001b[39;00m \u001b[39mnot\u001b[39;00m \u001b[39mNone\u001b[39;00m:\n\u001b[0;32m     18\u001b[0m     \u001b[39mreturn\u001b[39;00m score\n\u001b[1;32m---> 20\u001b[0m \u001b[39mreturn\u001b[39;00m (\u001b[39mmax\u001b[39;49m \u001b[39mif\u001b[39;49;00m is_maximizing \u001b[39melse\u001b[39;49;00m \u001b[39mmin\u001b[39;49m)(\n\u001b[0;32m     21\u001b[0m     minmax(new_state, is_maximizing\u001b[39m=\u001b[39;49m\u001b[39mnot\u001b[39;49;00m is_maximizing) \u001b[39mfor\u001b[39;49;00m new_state \u001b[39min\u001b[39;49;00m possible_new_states(rows)\n\u001b[0;32m     22\u001b[0m     )\n",
      "Cell \u001b[1;32mIn [85], line 21\u001b[0m, in \u001b[0;36m<genexpr>\u001b[1;34m(.0)\u001b[0m\n\u001b[0;32m     17\u001b[0m \u001b[39mif\u001b[39;00m (score \u001b[39m:=\u001b[39m check_teminal(rows, is_maximizing)) \u001b[39mis\u001b[39;00m \u001b[39mnot\u001b[39;00m \u001b[39mNone\u001b[39;00m:\n\u001b[0;32m     18\u001b[0m     \u001b[39mreturn\u001b[39;00m score\n\u001b[0;32m     20\u001b[0m \u001b[39mreturn\u001b[39;00m (\u001b[39mmax\u001b[39m \u001b[39mif\u001b[39;00m is_maximizing \u001b[39melse\u001b[39;00m \u001b[39mmin\u001b[39m)(\n\u001b[1;32m---> 21\u001b[0m     minmax(new_state, is_maximizing\u001b[39m=\u001b[39;49m\u001b[39mnot\u001b[39;49;00m is_maximizing) \u001b[39mfor\u001b[39;00m new_state \u001b[39min\u001b[39;00m possible_new_states(rows)\n\u001b[0;32m     22\u001b[0m     )\n",
      "    \u001b[1;31m[... skipping similar frames: minmax at line 20 (10 times), <genexpr> at line 21 (9 times)]\u001b[0m\n",
      "Cell \u001b[1;32mIn [85], line 21\u001b[0m, in \u001b[0;36m<genexpr>\u001b[1;34m(.0)\u001b[0m\n\u001b[0;32m     17\u001b[0m \u001b[39mif\u001b[39;00m (score \u001b[39m:=\u001b[39m check_teminal(rows, is_maximizing)) \u001b[39mis\u001b[39;00m \u001b[39mnot\u001b[39;00m \u001b[39mNone\u001b[39;00m:\n\u001b[0;32m     18\u001b[0m     \u001b[39mreturn\u001b[39;00m score\n\u001b[0;32m     20\u001b[0m \u001b[39mreturn\u001b[39;00m (\u001b[39mmax\u001b[39m \u001b[39mif\u001b[39;00m is_maximizing \u001b[39melse\u001b[39;00m \u001b[39mmin\u001b[39m)(\n\u001b[1;32m---> 21\u001b[0m     minmax(new_state, is_maximizing\u001b[39m=\u001b[39;49m\u001b[39mnot\u001b[39;49;00m is_maximizing) \u001b[39mfor\u001b[39;00m new_state \u001b[39min\u001b[39;00m possible_new_states(rows)\n\u001b[0;32m     22\u001b[0m     )\n",
      "Cell \u001b[1;32mIn [85], line 20\u001b[0m, in \u001b[0;36mminmax\u001b[1;34m(rows, is_maximizing)\u001b[0m\n\u001b[0;32m     17\u001b[0m \u001b[39mif\u001b[39;00m (score \u001b[39m:=\u001b[39m check_teminal(rows, is_maximizing)) \u001b[39mis\u001b[39;00m \u001b[39mnot\u001b[39;00m \u001b[39mNone\u001b[39;00m:\n\u001b[0;32m     18\u001b[0m     \u001b[39mreturn\u001b[39;00m score\n\u001b[1;32m---> 20\u001b[0m \u001b[39mreturn\u001b[39;00m (\u001b[39mmax\u001b[39;49m \u001b[39mif\u001b[39;49;00m is_maximizing \u001b[39melse\u001b[39;49;00m \u001b[39mmin\u001b[39;49m)(\n\u001b[0;32m     21\u001b[0m     minmax(new_state, is_maximizing\u001b[39m=\u001b[39;49m\u001b[39mnot\u001b[39;49;00m is_maximizing) \u001b[39mfor\u001b[39;49;00m new_state \u001b[39min\u001b[39;49;00m possible_new_states(rows)\n\u001b[0;32m     22\u001b[0m     )\n",
      "Cell \u001b[1;32mIn [85], line 20\u001b[0m, in \u001b[0;36m<genexpr>\u001b[1;34m(.0)\u001b[0m\n\u001b[0;32m     17\u001b[0m \u001b[39mif\u001b[39;00m (score \u001b[39m:=\u001b[39m check_teminal(rows, is_maximizing)) \u001b[39mis\u001b[39;00m \u001b[39mnot\u001b[39;00m \u001b[39mNone\u001b[39;00m:\n\u001b[0;32m     18\u001b[0m     \u001b[39mreturn\u001b[39;00m score\n\u001b[1;32m---> 20\u001b[0m \u001b[39mreturn\u001b[39;00m (\u001b[39mmax\u001b[39m \u001b[39mif\u001b[39;00m is_maximizing \u001b[39melse\u001b[39;00m \u001b[39mmin\u001b[39m)(\n\u001b[0;32m     21\u001b[0m     minmax(new_state, is_maximizing\u001b[39m=\u001b[39m\u001b[39mnot\u001b[39;00m is_maximizing) \u001b[39mfor\u001b[39;00m new_state \u001b[39min\u001b[39;00m possible_new_states(rows)\n\u001b[0;32m     22\u001b[0m     )\n",
      "\u001b[1;31mKeyboardInterrupt\u001b[0m: "
     ]
    }
   ],
   "source": [
    "nim = Nim(5)\n",
    "\n",
    "best_move(nim)"
   ]
  },
  {
   "cell_type": "code",
   "execution_count": null,
   "metadata": {},
   "outputs": [],
   "source": []
  }
 ],
 "metadata": {
  "kernelspec": {
   "display_name": "Python 3.10.2 ('computational-intelligence-22-23-44TTMWXr-py3.10')",
   "language": "python",
   "name": "python3"
  },
  "language_info": {
   "codemirror_mode": {
    "name": "ipython",
    "version": 3
   },
   "file_extension": ".py",
   "mimetype": "text/x-python",
   "name": "python",
   "nbconvert_exporter": "python",
   "pygments_lexer": "ipython3",
   "version": "3.10.2"
  },
  "orig_nbformat": 4,
  "vscode": {
   "interpreter": {
    "hash": "068f310d441e9b183eeddd52b922178ff1d98c531a04d923af98ed3231a7b09d"
   }
  }
 },
 "nbformat": 4,
 "nbformat_minor": 2
}
