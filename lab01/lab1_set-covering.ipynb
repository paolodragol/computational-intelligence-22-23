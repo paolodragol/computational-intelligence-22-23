{
 "cells": [
  {
   "cell_type": "markdown",
   "metadata": {
    "pycharm": {
     "name": "#%% md\n"
    }
   },
   "source": [
    "Copyright **`(c)`** 2022 Giovanni Squillero `<squillero@polito.it>`  \n",
    "[`https://github.com/squillero/computational-intelligence`](https://github.com/squillero/computational-intelligence)  \n",
    "Free for personal or classroom use; see [`LICENSE.md`](https://github.com/squillero/computational-intelligence/blob/master/LICENSE.md) for details.  \n"
   ]
  },
  {
   "cell_type": "markdown",
   "metadata": {
    "pycharm": {
     "name": "#%%\n"
    }
   },
   "source": [
    "# Lab 1: Set Covering\n",
    "\n",
    "First lab + peer review. List this activity in your final report, it will be part of your exam.\n",
    "\n",
    "## Task\n",
    "\n",
    "Given a number $N$ and some lists of integers $P = (L_0, L_1, L_2, ..., L_n)$, \n",
    "determine, if possible, $S = (L_{s_0}, L_{s_1}, L_{s_2}, ..., L_{s_n})$\n",
    "such that each number between $0$ and $N-1$ appears in at least one list\n",
    "\n",
    "$$\\forall n \\in [0, N-1] \\ \\exists i : n \\in L_{s_i}$$\n",
    "\n",
    "and that the total numbers of elements in all $L_{s_i}$ is minimum. \n",
    "\n",
    "## Instructions\n",
    "\n",
    "* Create the directory `lab1` inside the course repo (the one you registered with Andrea)\n",
    "* Put a `README.md` and your solution (all the files, code and auxiliary data if needed)\n",
    "* Use `problem` to generate the problems with different $N$\n",
    "* In the `README.md`, report the the total numbers of elements in $L_{s_i}$ for problem with $N \\in [5, 10, 20, 100, 500, 1000]$ and the total number on $nodes$ visited during the search. Use `seed=42`.\n",
    "* Use `GitHub Issues` to peer review others' lab\n",
    "\n",
    "## Notes\n",
    "\n",
    "* Working in group is not only allowed, but recommended (see: [Ubuntu](https://en.wikipedia.org/wiki/Ubuntu_philosophy) and [Cooperative Learning](https://files.eric.ed.gov/fulltext/EJ1096789.pdf)). Collaborations must be explicitly declared in the `README.md`.\n",
    "* [Yanking](https://www.emacswiki.org/emacs/KillingAndYanking) from the internet is allowed, but sources must be explicitly declared in the `README.md`.\n",
    "\n",
    "**Deadline**\n",
    "\n",
    "* Sunday, October 16th 23:59:59 for the working solution\n",
    "* Sunday, October 23rd 23:59:59 for the peer reviews"
   ]
  },
  {
   "cell_type": "code",
   "execution_count": 1,
   "metadata": {},
   "outputs": [],
   "source": [
    "import random\n",
    "import logging"
   ]
  },
  {
   "cell_type": "markdown",
   "metadata": {},
   "source": [
    "### Problem representation:\n",
    "We need the least amount of numers (given some lists), that cover all the numbers $[0 - N]$:\n",
    "\n",
    "\\begin{equation}\n",
    "min \\sum \\limits _{j=1} ^{n} c_{j}x_{j}\n",
    "\\end{equation}\n",
    "\n",
    "where $c_{j}$ is the cost of the given list and \n",
    "\n",
    "\\begin{equation}\n",
    "x_{j} \\ for \\ set \\ S_{j} \\ = \n",
    "  \\begin{cases}\n",
    "    1 & \\text{if $S_{j}$ selected}\\\\\n",
    "    0 & \\text{if not}\\\\\n",
    "  \\end{cases} \n",
    "\\end{equation}\n",
    "\n",
    "The cost of adding a list to the solution is the number of elements in the list. As priority of node expansion we use the length of the list itself. \n",
    "\n",
    "#### Constraints\n",
    "Given the problem code, we can see that:\n",
    "* Lists are of length $[N//5, N//2]$\n",
    "* The number of lists to explore is between $[N, N*5]$\n",
    "\n",
    "**Linear programming problem contraints:**\n",
    "* Every element in the solution space must be covered. *This constraint cannot be guaranteed.*\n",
    "* Values for $x_{j} \\in \\{0, 1\\}$ \n",
    "**NP-hard optimization problem.** "
   ]
  },
  {
   "cell_type": "code",
   "execution_count": 2,
   "metadata": {},
   "outputs": [],
   "source": [
    "def problem(N, seed=None):\n",
    "    random.seed(seed)\n",
    "    return [\n",
    "        list(set(random.randint(0, N - 1) for n in range(random.randint(N // 5, N // 2))))\n",
    "        for n in range(random.randint(N, N * 5))\n",
    "    ]"
   ]
  },
  {
   "cell_type": "markdown",
   "metadata": {},
   "source": [
    "##### \n",
    "**Professor's Greedy solution**: \n",
    "Greedy solution considering length of list as *maximum expected value*."
   ]
  },
  {
   "cell_type": "code",
   "execution_count": 3,
   "metadata": {},
   "outputs": [],
   "source": [
    "import logging\n",
    "\n",
    "\n",
    "def greedy(N):\n",
    "    goal = set(range(N))\n",
    "    covered = set()\n",
    "    solution = list()\n",
    "    all_lists = sorted(problem(N, seed=42), key=lambda l: len(l))\n",
    "    while goal != covered:\n",
    "        x = all_lists.pop(0)\n",
    "        if not set(x) < covered:\n",
    "            solution.append(x)\n",
    "            covered |= set(x)\n",
    "\n",
    "    logging.info(\n",
    "        f\"Greedy solution for N={N}: w={sum(len(_) for _ in solution)} (bloat={(sum(len(_) for _ in solution)-N)/N*100:.0f}%)\"\n",
    "    )\n",
    "    logging.debug(f\"{solution}\")"
   ]
  },
  {
   "cell_type": "code",
   "execution_count": 4,
   "metadata": {},
   "outputs": [
    {
     "name": "stderr",
     "output_type": "stream",
     "text": [
      "INFO:root:Greedy solution for N=5: w=5 (bloat=0%)\n",
      "INFO:root:Greedy solution for N=10: w=13 (bloat=30%)\n",
      "INFO:root:Greedy solution for N=20: w=46 (bloat=130%)\n",
      "INFO:root:Greedy solution for N=100: w=332 (bloat=232%)\n",
      "INFO:root:Greedy solution for N=500: w=2162 (bloat=332%)\n",
      "INFO:root:Greedy solution for N=1000: w=4652 (bloat=365%)\n"
     ]
    }
   ],
   "source": [
    "logging.getLogger().setLevel(logging.INFO)\n",
    "for N in [5, 10, 20, 100, 500, 1000]:\n",
    "    greedy(N)"
   ]
  },
  {
   "cell_type": "code",
   "execution_count": 5,
   "metadata": {},
   "outputs": [
    {
     "name": "stderr",
     "output_type": "stream",
     "text": [
      "INFO:root:Greedy solution for N=1000: w=4652 (bloat=365%)\n",
      "INFO:root:Greedy solution for N=1000: w=4652 (bloat=365%)\n",
      "INFO:root:Greedy solution for N=1000: w=4652 (bloat=365%)\n",
      "INFO:root:Greedy solution for N=1000: w=4652 (bloat=365%)\n",
      "INFO:root:Greedy solution for N=1000: w=4652 (bloat=365%)\n",
      "INFO:root:Greedy solution for N=1000: w=4652 (bloat=365%)\n",
      "INFO:root:Greedy solution for N=1000: w=4652 (bloat=365%)\n",
      "INFO:root:Greedy solution for N=1000: w=4652 (bloat=365%)\n"
     ]
    },
    {
     "name": "stdout",
     "output_type": "stream",
     "text": [
      "1.09 s ± 37.6 ms per loop (mean ± std. dev. of 7 runs, 1 loop each)\n"
     ]
    }
   ],
   "source": [
    "%timeit greedy(1_000)"
   ]
  },
  {
   "cell_type": "markdown",
   "metadata": {},
   "source": [
    "#### **Informed Solution**: A* Algorithm\n",
    "\n",
    "Runs best first (Greedy approach), but adding estimated heuristic cost."
   ]
  },
  {
   "cell_type": "code",
   "execution_count": 24,
   "metadata": {},
   "outputs": [],
   "source": [
    "import functools\n",
    "\n",
    "# Priority function takes into account the cost to get to given state\n",
    "# and the heuristic estimated cost: considering the amount of elements missing from solution\n",
    "\n",
    "# state_dim = number of elements in the state considered\n",
    "# N = total number of numbers\n",
    "# pot_coverage = potential coverage given the state\n",
    "def priority_function(state_dim, N, pot_coverage):\n",
    "    g_n = state_dim\n",
    "\n",
    "    # Heuristic: number of numbers missing elements from Universal set\n",
    "    h_n = N - pot_coverage\n",
    "    res = g_n + h_n\n",
    "    #print(f\"Priority = {g_n} +  {h_n}\")\n",
    "\n",
    "    # Priority given by the (num of elements in current solution if list were to be added to it + num of missing elemets) first \n",
    "    # and then by (num of elements in current solution if list were to be added)\n",
    "    return res, g_n"
   ]
  },
  {
   "cell_type": "code",
   "execution_count": 28,
   "metadata": {},
   "outputs": [],
   "source": [
    "def get_state_dim(state):\n",
    "    res= functools.reduce(lambda count, l: count + len(l), state, 0)\n",
    "    #print(f\"STATE (dim = {res}): {state}\")\n",
    "    return res\n",
    "\n",
    "def get_coverage_len(state, goal):\n",
    "    cov = set()\n",
    "    for l in state:\n",
    "        cov |= set(l)\n",
    "    return len(cov)"
   ]
  },
  {
   "cell_type": "code",
   "execution_count": 30,
   "metadata": {},
   "outputs": [],
   "source": [
    "from gx_utils import PriorityQueue\n",
    "\n",
    "\n",
    "def a_star(N):\n",
    "    goal = set(range(N))\n",
    "    covered = set()\n",
    "    state = list()\n",
    "    problem_lists = problem(N, seed=42)\n",
    "    unique_lists = set(tuple(i) for i in problem_lists)\n",
    "    sorted_lists = sorted(unique_lists, key=lambda l: len(l))\n",
    "    pq = PriorityQueue()\n",
    "    \n",
    "    # Insert all lists as tuples in a Priority Queue\n",
    "    for l in sorted_lists:\n",
    "        # Calculate the potential coverage if that list were to be put in the solution\n",
    "        state.append(list(l))\n",
    "        pot_coverage = get_coverage_len(state, goal)\n",
    "\n",
    "        # Add to pq based on their length (at this stage the total cost considering heuristic will be = N)\n",
    "        pq.push(l, p=priority_function(len(l), N, pot_coverage))\n",
    "        state.pop()\n",
    "    \n",
    "\n",
    "    while covered != goal:\n",
    "        # Extract most promising element from queue (optimal solution hp => it is the best element)\n",
    "        #print(f\"Current state: {state}\")\n",
    "        new_list = list(pq.pop())\n",
    "        if not set(new_list) < covered:\n",
    "            # Update current state and coverage\n",
    "            state.append(new_list)\n",
    "            covered |= set(new_list)\n",
    "            \n",
    "            # Revisit priorities: given the new state\n",
    "            revisited_lists = list()\n",
    "            while pq:\n",
    "                revisited_lists.append(pq.pop())\n",
    "            \n",
    "            # Sort lists again based on length (Greedy)\n",
    "            #revisited_lists = sorted(revisited_lists, key=lambda l: len(l))\n",
    "            # Set potential coverage to current one\n",
    "            #print(f\"Covered before {covered}\")\n",
    "\n",
    "            # Recompute priorities\n",
    "            for l in revisited_lists:\n",
    "                # Re create pq with new priorities\n",
    "                state.append(list(l))\n",
    "                pot_coverage = get_coverage_len(state, goal)\n",
    "                state_dim = get_state_dim(state)\n",
    "                pq.push(l, p=priority_function(state_dim, N, pot_coverage))\n",
    "                state.pop()\n",
    "        #print(f\"Covered final {covered}\")\n",
    "\n",
    "\n",
    "    logging.info(\n",
    "        f\"A* solution for N={N}: w={sum(len(_) for _ in state)} (bloat={(sum(len(_) for _ in state)-N)/N*100:.0f}%)\"\n",
    "    )\n",
    "    logging.debug(f\"{state}\")\n",
    "    \n",
    "        \n",
    "        "
   ]
  },
  {
   "cell_type": "code",
   "execution_count": 33,
   "metadata": {},
   "outputs": [
    {
     "name": "stderr",
     "output_type": "stream",
     "text": [
      "INFO:root:A* solution for N=5: w=5 (bloat=0%)\n",
      "INFO:root:A* solution for N=10: w=13 (bloat=30%)\n",
      "INFO:root:A* solution for N=20: w=28 (bloat=40%)\n",
      "INFO:root:A* solution for N=100: w=228 (bloat=128%)\n",
      "INFO:root:A* solution for N=500: w=1828 (bloat=266%)\n",
      "INFO:root:A* solution for N=1000: w=4130 (bloat=313%)\n"
     ]
    }
   ],
   "source": [
    "logging.getLogger().setLevel(logging.INFO)\n",
    "for N in [5, 10, 20, 100, 500, 1000]:\n",
    "    a_star(N)"
   ]
  },
  {
   "cell_type": "code",
   "execution_count": 228,
   "metadata": {},
   "outputs": [],
   "source": [
    "def add_one_list(current_state, goal, sorted_lists, visited_nodes, covered):\n",
    "    if covered == goal:\n",
    "        print(type(current_state), type(visited_nodes))\n",
    "        return current_state, visited_nodes\n",
    "    if len(sorted_lists) == 0:\n",
    "        return current_state, -1\n",
    "\n",
    "    new_list = list(sorted_lists.pop())\n",
    "    current_state.append(new_list)\n",
    "    covered |= set(new_list)\n",
    "    visited_nodes += 1\n",
    "    add_one_list(current_state, goal, sorted_lists\n",
    "    , visited_nodes, covered)\n",
    "\n",
    "        "
   ]
  },
  {
   "cell_type": "code",
   "execution_count": 229,
   "metadata": {},
   "outputs": [],
   "source": [
    "from gx_utils import PriorityQueue\n",
    "\n",
    "def a_star_recursive(N):\n",
    "    goal = set(range(N))\n",
    "    covered = set()\n",
    "    state = list()\n",
    "    prob_lists = problem(N, seed=42)\n",
    "    unique_lists = set(tuple(i) for i in prob_lists)\n",
    "    sorted_lists = sorted(unique_lists, key=lambda l: len(l))\n",
    "\n",
    "    print(sorted_lists)\n",
    "\n",
    "    for l in sorted_lists:\n",
    "        # The first step takes the shortest list (at this stage all costs are equal, by definition)\n",
    "        first_list = list(sorted_lists.pop(0))\n",
    "        state.append(first_list)\n",
    "        covered |= set(first_list)\n",
    "        visited_nodes = 1\n",
    "        solution, visited = add_one_list(state, goal, sorted_lists, visited_nodes, covered)\n",
    "        \n",
    "        if visited == -1:\n",
    "            break\n",
    "\n",
    "    if visited == -1:\n",
    "       logging.info(f\"A* found no solution for N={N}\") \n",
    "    else:\n",
    "        logging.info(\n",
    "            f\"A* solution for N={N}: w={sum(len(_) for _ in solution)} (bloat={(sum(len(_) for _ in state)-N)/N*100:.0f}%)\"\n",
    "        )\n",
    "        logging.debug(f\"{state}\")\n"
   ]
  },
  {
   "cell_type": "code",
   "execution_count": 230,
   "metadata": {},
   "outputs": [
    {
     "name": "stdout",
     "output_type": "stream",
     "text": [
      "[(2,), (4,), (1,), (3,), (0,), (0, 1), (2, 4), (2, 3), (0, 2), (1, 3)]\n",
      "<class 'list'> <class 'int'>\n"
     ]
    },
    {
     "ename": "TypeError",
     "evalue": "cannot unpack non-iterable NoneType object",
     "output_type": "error",
     "traceback": [
      "\u001b[1;31m---------------------------------------------------------------------------\u001b[0m",
      "\u001b[1;31mTypeError\u001b[0m                                 Traceback (most recent call last)",
      "Cell \u001b[1;32mIn [230], line 3\u001b[0m\n\u001b[0;32m      1\u001b[0m logging\u001b[39m.\u001b[39mgetLogger()\u001b[39m.\u001b[39msetLevel(logging\u001b[39m.\u001b[39mINFO)\n\u001b[0;32m      2\u001b[0m \u001b[39mfor\u001b[39;00m N \u001b[39min\u001b[39;00m [\u001b[39m5\u001b[39m]:\n\u001b[1;32m----> 3\u001b[0m     a_star_recursive(N)\n",
      "Cell \u001b[1;32mIn [229], line 19\u001b[0m, in \u001b[0;36ma_star_recursive\u001b[1;34m(N)\u001b[0m\n\u001b[0;32m     17\u001b[0m covered \u001b[39m|\u001b[39m\u001b[39m=\u001b[39m \u001b[39mset\u001b[39m(first_list)\n\u001b[0;32m     18\u001b[0m visited_nodes \u001b[39m=\u001b[39m \u001b[39m1\u001b[39m\n\u001b[1;32m---> 19\u001b[0m solution, visited \u001b[39m=\u001b[39m add_one_list(state, goal, sorted_lists, visited_nodes, covered)\n\u001b[0;32m     21\u001b[0m \u001b[39mif\u001b[39;00m visited \u001b[39m==\u001b[39m \u001b[39m-\u001b[39m\u001b[39m1\u001b[39m:\n\u001b[0;32m     22\u001b[0m     \u001b[39mbreak\u001b[39;00m\n",
      "\u001b[1;31mTypeError\u001b[0m: cannot unpack non-iterable NoneType object"
     ]
    }
   ],
   "source": [
    "logging.getLogger().setLevel(logging.INFO)\n",
    "for N in [5]:\n",
    "    a_star_recursive(N)"
   ]
  }
 ],
 "metadata": {
  "kernelspec": {
   "display_name": "Python 3.10.2 ('computational-intelligence-22-23-44TTMWXr-py3.10')",
   "language": "python",
   "name": "python3"
  },
  "language_info": {
   "codemirror_mode": {
    "name": "ipython",
    "version": 3
   },
   "file_extension": ".py",
   "mimetype": "text/x-python",
   "name": "python",
   "nbconvert_exporter": "python",
   "pygments_lexer": "ipython3",
   "version": "3.10.2"
  },
  "vscode": {
   "interpreter": {
    "hash": "068f310d441e9b183eeddd52b922178ff1d98c531a04d923af98ed3231a7b09d"
   }
  }
 },
 "nbformat": 4,
 "nbformat_minor": 2
}
