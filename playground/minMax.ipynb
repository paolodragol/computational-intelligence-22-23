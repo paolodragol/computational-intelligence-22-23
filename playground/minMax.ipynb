{
 "cells": [
  {
   "cell_type": "markdown",
   "metadata": {},
   "source": [
    "### Tic-Tac-Toe: as Pick 3"
   ]
  },
  {
   "cell_type": "code",
   "execution_count": 1,
   "metadata": {},
   "outputs": [],
   "source": [
    "from itertools import permutations\n",
    "import numpy as np"
   ]
  },
  {
   "cell_type": "code",
   "execution_count": 6,
   "metadata": {},
   "outputs": [],
   "source": [
    "MAP = np.array([[1, 6, 5], [8, 4, 0], [3, 2, 7]])\n",
    "\n",
    "def display(x, o):\n",
    "    for r in range(3):\n",
    "        for c in range(3):\n",
    "            if MAP[r, c] in x:\n",
    "                print(\"X\", end=\" \")\n",
    "            elif MAP[r, c] in o:\n",
    "                print(\"O\", end=\" \")\n",
    "            else:\n",
    "                print(\".\", end=\" \")\n",
    "        print()"
   ]
  },
  {
   "cell_type": "code",
   "execution_count": 3,
   "metadata": {},
   "outputs": [],
   "source": [
    "def won(cells):\n",
    "    return any(sum(h) == 12 for h in permutations(cells, 3))\n",
    "\n",
    "def eval_terminal(x, o):\n",
    "    if won(x):\n",
    "        return 1\n",
    "    elif won(o):\n",
    "        return -1\n",
    "    else:\n",
    "        return 0"
   ]
  },
  {
   "cell_type": "code",
   "execution_count": 4,
   "metadata": {},
   "outputs": [],
   "source": [
    "def minmax(board):\n",
    "    val = eval_terminal(*board)\n",
    "    possible = list(set(range(9)) - board[0] - board[1])\n",
    "\n",
    "    if val != 0 or not possible:\n",
    "        return None, val\n",
    "    \n",
    "    evaluations = []\n",
    "    for ply in possible:\n",
    "        _, val = minmax((board[1], board[0] | {ply}))\n",
    "        evaluations.append((ply, -val))\n",
    "    \n",
    "    return max(evaluations, key=lambda k: k[1])"
   ]
  },
  {
   "cell_type": "code",
   "execution_count": 14,
   "metadata": {},
   "outputs": [
    {
     "name": "stdout",
     "output_type": "stream",
     "text": [
      "X . O \n",
      "O X O \n",
      "X . . \n",
      "\n",
      "X . O \n",
      "O X O \n",
      "X . X \n"
     ]
    }
   ],
   "source": [
    "p = ({1, 3, 4}, {0, 5, 8})\n",
    "display(*p)\n",
    "print()\n",
    "best_ply, eval = minmax(p)\n",
    "display(p[0] | {best_ply}, p[1])"
   ]
  },
  {
   "cell_type": "code",
   "execution_count": null,
   "metadata": {},
   "outputs": [],
   "source": []
  }
 ],
 "metadata": {
  "kernelspec": {
   "display_name": "Python 3.10.2 ('computational-intelligence-22-23-44TTMWXr-py3.10')",
   "language": "python",
   "name": "python3"
  },
  "language_info": {
   "codemirror_mode": {
    "name": "ipython",
    "version": 3
   },
   "file_extension": ".py",
   "mimetype": "text/x-python",
   "name": "python",
   "nbconvert_exporter": "python",
   "pygments_lexer": "ipython3",
   "version": "3.10.2"
  },
  "orig_nbformat": 4,
  "vscode": {
   "interpreter": {
    "hash": "068f310d441e9b183eeddd52b922178ff1d98c531a04d923af98ed3231a7b09d"
   }
  }
 },
 "nbformat": 4,
 "nbformat_minor": 2
}
