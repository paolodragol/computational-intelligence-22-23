{
 "cells": [
  {
   "cell_type": "markdown",
   "metadata": {},
   "source": [
    "#### **SAMUELE PINO's** *A\\* Algorithm*"
   ]
  },
  {
   "cell_type": "code",
   "execution_count": 18,
   "metadata": {},
   "outputs": [],
   "source": [
    "import logging\n",
    "import random\n",
    "\n",
    "def problem(N, seed=42):\n",
    "    \"\"\"Creates an instance of the problem\"\"\"\n",
    "\n",
    "    random.seed(seed)\n",
    "    return [\n",
    "        list(set(random.randint(0, N - 1) for n in range(random.randint(N // 5, N // 2))))\n",
    "        for n in range(random.randint(N, N * 5))\n",
    "    ]"
   ]
  },
  {
   "cell_type": "code",
   "execution_count": 19,
   "metadata": {},
   "outputs": [],
   "source": [
    "class State():\n",
    "    \"\"\"Class for states in A* alghoritm\"\"\"\n",
    "\n",
    "    def __init__(self, state, number_found, g, h, remaining_list = []):\n",
    "        self.g = g;\n",
    "        self.h = h;\n",
    "        self.f = g + h;\n",
    "\n",
    "        self.remaining_list = remaining_list\n",
    "        self.state = state\n",
    "        self.number_found = number_found\n",
    "\n",
    "#Actual Cost\n",
    "def g(solution, el):\n",
    "    return sum(len(element) for element in solution) + len(el)\n",
    "\n",
    "#Euristic Cost\n",
    "def h(N, el, number_found):\n",
    "    return (N - (len(set(el)| number_found)))\n",
    "\n",
    "def a_star(N):\n",
    "\n",
    "    n_of_visited_nodes = 0\n",
    "    start_problem = problem(N)\n",
    "    goal = set(range(N))\n",
    "    state_list = []\n",
    "\n",
    "    open_states = []\n",
    "    \n",
    "    print(f\"Lists {len(start_problem)}\")\n",
    "    # Create a list of states\n",
    "    for ind, element in enumerate(start_problem):\n",
    "        n_of_visited_nodes += 1\n",
    "        state_list.append(element)\n",
    "        temp_state = State(state_list, set(element) ,g(state_list, element), h(N,element,set(element)))\n",
    "        #print(element, temp_state.g, temp_state.h, temp_state.f)\n",
    "        open_states.append(temp_state)\n",
    "        state_list = []\n",
    "\n",
    "    while True:\n",
    "    \n",
    "        # consider first state\n",
    "        ind = 0\n",
    "        current_state = open_states[ind]\n",
    "\n",
    "        # For each element in opened_states check if the function has less cost\n",
    "        # take state with less cost\n",
    "        # save index\n",
    "        for indice, open_state in enumerate(open_states):\n",
    "            if open_state.f < current_state.f:\n",
    "                current_state = open_state\n",
    "                ind = indice\n",
    "        \n",
    "        # Extract best state\n",
    "        open_states.pop(ind)\n",
    "    \n",
    "        # Get SET of elements covered by current_state\n",
    "        number_found = current_state.number_found      \n",
    "\n",
    "        # Check solution correctness (if there is a sol with just one list(?))\n",
    "        if number_found >= goal:\n",
    "            print(\"solution :\", current_state.state)\n",
    "            print(\"W: \", sum(len(element) for element in current_state.state))\n",
    "            return\n",
    "\n",
    "        # If no sol found, save list of current state\n",
    "        curr_state = current_state.state\n",
    "\n",
    "        # For each list in the problem\n",
    "        for element in start_problem:\n",
    "\n",
    "            # Needed to not have duplicates\n",
    "            # Add new element to \"current_state\"\n",
    "            if element not in current_state.state:\n",
    "                n_of_visited_nodes += 1\n",
    "                state_list = curr_state.copy()\n",
    "                state_list.append(element)\n",
    "                number_found = set(element) | current_state.number_found\n",
    "\n",
    "                temp_state = State(state_list, number_found ,g(state_list, element), h(N, element, number_found))\n",
    "                \n",
    "                if temp_state.number_found >= goal:\n",
    "                    print(f\"\\nSolution using A* algotithm with N = {N} =>\\n\\t W = {sum(len(element) for element in temp_state.state)} \\n\\t N of VISITED NODES = {n_of_visited_nodes}\")\n",
    "                    print(f\"Solution {temp_state.state}\")\n",
    "                    return\n",
    "                \n",
    "                open_states.append(temp_state)\n"
   ]
  },
  {
   "cell_type": "code",
   "execution_count": 23,
   "metadata": {},
   "outputs": [
    {
     "name": "stdout",
     "output_type": "stream",
     "text": [
      "Lists 54\n",
      "\n",
      "Solution using A* algotithm with N = 14 =>\n",
      "\t W = 16 \n",
      "\t N of VISITED NODES = 175120\n",
      "Solution [[10, 11], [1, 6], [13, 5], [0, 12], [9, 3], [2, 3, 4, 7, 8, 11]]\n"
     ]
    }
   ],
   "source": [
    "a_star(14)"
   ]
  },
  {
   "cell_type": "markdown",
   "metadata": {},
   "source": [
    "#### Professor's Dijkstra Solution"
   ]
  },
  {
   "cell_type": "code",
   "execution_count": 14,
   "metadata": {},
   "outputs": [],
   "source": [
    "from gx_utils import PriorityQueue, Counter\n",
    "\n",
    "def dijkstra(N, all_lists):\n",
    "    \"\"\"Vanilla Dijkstra's algorithm\"\"\"\n",
    "\n",
    "    GOAL = set(range(N))\n",
    "    all_lists = tuple(set(tuple(_) for _ in all_lists))\n",
    "    frontier = PriorityQueue()\n",
    "    nodes = 0\n",
    "\n",
    "    def state_to_set(state):\n",
    "        return set(sum((e for e in state), start=()))\n",
    "\n",
    "    def goal_test(state):\n",
    "        return state_to_set(state) == GOAL\n",
    "\n",
    "    def possible_steps(state):\n",
    "        current = state_to_set(state)\n",
    "        return [l for l in all_lists if not set(l) <= current]\n",
    "\n",
    "    def w(state):\n",
    "        cnt = Counter()\n",
    "        cnt.update(sum((e for e in state), start=()))\n",
    "        return sum(cnt[c] - 1 for c in cnt if cnt[c] > 1), -sum(cnt[c] == 1 for c in cnt)\n",
    "\n",
    "    state = tuple()\n",
    "    while state is not None and not goal_test(state):\n",
    "        nodes += 1\n",
    "        for s in possible_steps(state):\n",
    "            frontier.push((*state, s), p=w((*state, s)))\n",
    "        state = frontier.pop()\n",
    "\n",
    "    logging.debug(f\"dijkstra: SOLVED! nodes={nodes:,}; w={sum(len(_) for _ in state):,}; iw={w(state)})\")\n",
    "    return state"
   ]
  },
  {
   "cell_type": "code",
   "execution_count": 15,
   "metadata": {},
   "outputs": [
    {
     "name": "stderr",
     "output_type": "stream",
     "text": [
      "DEBUG:root:dijkstra: SOLVED! nodes=3; w=5; iw=(0, -5))\n",
      "INFO:root: Solution for N=5: w=5 (bloat=0%)\n",
      "DEBUG:root:dijkstra: SOLVED! nodes=3; w=10; iw=(0, -10))\n",
      "INFO:root: Solution for N=10: w=10 (bloat=0%)\n",
      "DEBUG:root:dijkstra: SOLVED! nodes=469; w=14; iw=(0, -14))\n",
      "INFO:root: Solution for N=14: w=14 (bloat=0%)\n"
     ]
    }
   ],
   "source": [
    "logging.getLogger().setLevel(logging.DEBUG)\n",
    "\n",
    "for N in [5, 10, 14]:\n",
    "    solution = dijkstra(N, problem(N, seed=42))\n",
    "    logging.info(\n",
    "        f\" Solution for N={N:,}: \"\n",
    "        + f\"w={sum(len(_) for _ in solution):,} \"\n",
    "        + f\"(bloat={(sum(len(_) for _ in solution)-N)/N*100:.0f}%)\"\n",
    "    )"
   ]
  },
  {
   "cell_type": "code",
   "execution_count": null,
   "metadata": {},
   "outputs": [],
   "source": []
  }
 ],
 "metadata": {
  "kernelspec": {
   "display_name": "Python 3.10.2 ('computational-intelligence-22-23-44TTMWXr-py3.10')",
   "language": "python",
   "name": "python3"
  },
  "language_info": {
   "codemirror_mode": {
    "name": "ipython",
    "version": 3
   },
   "file_extension": ".py",
   "mimetype": "text/x-python",
   "name": "python",
   "nbconvert_exporter": "python",
   "pygments_lexer": "ipython3",
   "version": "3.10.2"
  },
  "orig_nbformat": 4,
  "vscode": {
   "interpreter": {
    "hash": "068f310d441e9b183eeddd52b922178ff1d98c531a04d923af98ed3231a7b09d"
   }
  }
 },
 "nbformat": 4,
 "nbformat_minor": 2
}
