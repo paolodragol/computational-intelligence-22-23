{
 "cells": [
  {
   "cell_type": "markdown",
   "metadata": {
    "pycharm": {
     "name": "#%% md\n"
    }
   },
   "source": [
    "Copyright **`(c)`** 2022 Giovanni Squillero `<squillero@polito.it>`  \n",
    "[`https://github.com/squillero/computational-intelligence`](https://github.com/squillero/computational-intelligence)  \n",
    "Free for personal or classroom use; see [`LICENSE.md`](https://github.com/squillero/computational-intelligence/blob/master/LICENSE.md) for details.  \n"
   ]
  },
  {
   "cell_type": "markdown",
   "metadata": {
    "pycharm": {
     "name": "#%%\n"
    }
   },
   "source": [
    "# Lab 3: Policy Search\n",
    "\n",
    "## Task\n",
    "\n",
    "Write agents able to play [*Nim*](https://en.wikipedia.org/wiki/Nim), with an arbitrary number of rows and an upper bound $k$ on the number of objects that can be removed in a turn (a.k.a., *subtraction game*).\n",
    "\n",
    "The player taking the last object wins.\n",
    "\n",
    "* Task3.1: An agent using fixed rules based on *nim-sum* (i.e., an *expert system*)\n",
    "* Task3.2: An agent using evolved rules\n",
    "* Task3.3: An agent using minmax\n",
    "* Task3.4: An agent using reinforcement learning\n",
    "\n",
    "## Instructions\n",
    "\n",
    "* Create the directory `lab3` inside the course repo \n",
    "* Put a `README.md` and your solution (all the files, code and auxiliary data if needed)\n",
    "\n",
    "## Notes\n",
    "\n",
    "* Working in group is not only allowed, but recommended (see: [Ubuntu](https://en.wikipedia.org/wiki/Ubuntu_philosophy) and [Cooperative Learning](https://files.eric.ed.gov/fulltext/EJ1096789.pdf)). Collaborations must be explicitly declared in the `README.md`.\n",
    "* [Yanking](https://www.emacswiki.org/emacs/KillingAndYanking) from the internet is allowed, but sources must be explicitly declared in the `README.md`.\n",
    "\n",
    "**Deadline**\n",
    "\n",
    "T.b.d.\n"
   ]
  },
  {
   "cell_type": "code",
   "execution_count": 12,
   "metadata": {},
   "outputs": [],
   "source": [
    "import logging\n",
    "from collections import namedtuple"
   ]
  },
  {
   "cell_type": "code",
   "execution_count": 13,
   "metadata": {},
   "outputs": [],
   "source": [
    "Nimply = namedtuple(\"Nimply\", \"row, num_objects\")"
   ]
  },
  {
   "cell_type": "markdown",
   "metadata": {},
   "source": [
    "#### **Define Nim class**"
   ]
  },
  {
   "cell_type": "code",
   "execution_count": 14,
   "metadata": {},
   "outputs": [],
   "source": [
    "class Nim:\n",
    "    def __init__(self, num_rows: int, k: int = None) -> None:\n",
    "        \"\"\"\n",
    "        Initialize the Nim class by defining:\n",
    "        - num_rows: the number of rows the game will have\n",
    "        - k: the maximum number of elements that a player can remove\n",
    "        \"\"\"\n",
    "        self._rows = [i*2 + 1 for i in range(num_rows)]\n",
    "        self._k = k\n",
    "\n",
    "    @property\n",
    "    def rows(self) -> tuple:\n",
    "        return tuple(self._rows)\n",
    "\n",
    "    @property\n",
    "    def k(self) -> int:\n",
    "        return self._k\n",
    "\n",
    "    def nimming(self, ply: Nimply) -> None:\n",
    "        row, num_objects = ply\n",
    "        assert self._rows[row] >= num_objects\n",
    "        assert self._k is None or num_objects <= self._k\n",
    "        self._rows[row] -= num_objects\n",
    "        if sum(self._rows) == 0:\n",
    "            logging.info(\"Yeuch\")\n",
    "\n",
    "    def display_board(self):\n",
    "        for i in range(len(self._rows)):\n",
    "            print(f\"row[{i+1}]:\\t\" + \"| \" * self._rows[i])"
   ]
  },
  {
   "cell_type": "markdown",
   "metadata": {},
   "source": [
    "#### Additional utility functions"
   ]
  },
  {
   "cell_type": "code",
   "execution_count": 15,
   "metadata": {},
   "outputs": [],
   "source": [
    "import functools\n",
    "from collections import Counter\n",
    "\n",
    "def calc_nimsum(rows):\n",
    "    return functools.reduce(lambda a, b: a ^ b, rows)\n",
    "\n",
    "def reduce_row(board, idx, board_nimsum, odd=None):\n",
    "    old_value = board._rows[idx]\n",
    "    if odd == True:\n",
    "        board._rows[idx] = 0\n",
    "    elif odd == False:\n",
    "        board._rows[idx] = 1\n",
    "    else:\n",
    "        board._rows[idx] = board._rows[idx] ^ board_nimsum\n",
    "    return old_value - board._rows[idx]\n",
    "\n",
    "def all_ones(board):\n",
    "    counts = Counter(board._rows)\n",
    "    for idx, cnt in counts.items():\n",
    "        if idx == 0 or idx == 1:\n",
    "            continue\n",
    "        if cnt != 0:\n",
    "            return False\n",
    "    return True\n",
    "\n",
    "def game_over(board, players, turn):\n",
    "    # The game is over when there is only one object left\n",
    "    counts = Counter(board._rows)\n",
    "    logging.debug(f\"Count: {counts}\")\n",
    "    for idx, cnt in counts.items():\n",
    "        if idx != 0 and idx != 1:\n",
    "            logging.debug(\"there is at least one heap with a # > 1\")\n",
    "            return False\n",
    "        if idx == 1 and cnt != 1:\n",
    "            logging.debug(\"there are more than one heaps with 1\")\n",
    "            return False\n",
    "    print(f\"Game Over: {players[(turn) % 2]} wins!\")\n",
    "    return True\n",
    "\n"
   ]
  },
  {
   "cell_type": "markdown",
   "metadata": {},
   "source": [
    "#### **Expert's Move**"
   ]
  },
  {
   "cell_type": "code",
   "execution_count": 16,
   "metadata": {},
   "outputs": [],
   "source": [
    "def make_expert_move(board):\n",
    "    \n",
    "    board_nimsum = calc_nimsum(board.rows)\n",
    "\n",
    "    # When the number of heaps with at least 2 objects is equal to 1\n",
    "    if functools.reduce(lambda acc, el: acc + 1 if el > 1 else acc, board._rows, 0) == 1:\n",
    "        # Count the number of heaps with one object\n",
    "        # if the number is odd...\n",
    "        if functools.reduce(lambda acc, el: acc + 1 if el == 1 else acc, board._rows, 0) % 2 != 0:\n",
    "            # ...take all but one of the \"non equal to one\" heap\n",
    "            for i in range(len(board._rows)):\n",
    "                if board._rows[i] != 0 and board._rows[i] != 1:\n",
    "                    ply = Nimply(i, board.rows[i]-1)\n",
    "                    #removed = reduce_row(board, i, board_nimsum, odd=False)\n",
    "                    print(f\"Removed {board.rows[i]-1}, from row {i+1}\")\n",
    "                    return ply\n",
    "        # if the number is even...\n",
    "        else:\n",
    "             # ...take all of the \"non equal to one\" heap\n",
    "            for i in range(len(board._rows)):\n",
    "                if board._rows[i] != 0 and  board._rows[i] != 1:\n",
    "                    ply = Nimply(i, board.rows[i])\n",
    "                    #removed = reduce_row(board, i, board_nimsum, odd=True)\n",
    "                    print(f\"Removed {board.rows[i]}, from row {i+1}\")\n",
    "                    return ply\n",
    "\n",
    "    # Check if all the remaining heaps are composed of one element\n",
    "    if all_ones(board):\n",
    "        for i in range(len(board._rows)):\n",
    "            if board._rows[i] == 1:\n",
    "                #board.nimming(Nimply(i, 1))\n",
    "                ply = Nimply(i, 1)\n",
    "                print(f\"Removed 1, from row {i+1}\")\n",
    "                return\n",
    "            \n",
    "\n",
    "    chosen_idx = None\n",
    "    for i in range(len(board._rows)): \n",
    "        logging.debug(f\"nimsum ({board_nimsum}) XOR row[{i}] ({board._rows[i]}) = {board_nimsum ^ board._rows[i]}\")\n",
    "        if board_nimsum ^ board._rows[i] < board._rows[i]:\n",
    "            chosen_idx = i\n",
    "            break\n",
    "\n",
    "    if chosen_idx is None:\n",
    "        logging.debug(f\"No ideal move found\")\n",
    "        # TODO: imporove strategy (take largest and remove one)\n",
    "        idx = board._rows.index(max(board._rows))\n",
    "        ply = Nimply(idx, 1)\n",
    "        #board.nimming(Nimply(idx, 1))\n",
    "        print(f\"Removed 1, from row {idx+1}\")\n",
    "        pass\n",
    "    else:\n",
    "        #removed = reduce_row(board, chosen_idx, board_nimsum)\n",
    "        num_to_remove = board.rows[chosen_idx] - (board.rows[chosen_idx] ^ board_nimsum)\n",
    "        ply = Nimply(chosen_idx, num_to_remove)\n",
    "        print(f\"Removed {num_to_remove}, from row {chosen_idx+1}\")\n",
    "        return ply"
   ]
  },
  {
   "cell_type": "markdown",
   "metadata": {},
   "source": [
    "#### **Human Move** (requires input)"
   ]
  },
  {
   "cell_type": "code",
   "execution_count": 17,
   "metadata": {},
   "outputs": [],
   "source": [
    "def make_human_move(board):\n",
    "    selected_row = -1\n",
    "    while selected_row < 0 or selected_row > len(board._rows) or board._rows[selected_row] == 0:\n",
    "        selected_row = int(input(f\"Select heap from which you want to remove objects [1-{len(board._rows)}]\")) - 1\n",
    "        if selected_row < 0 or selected_row > len(board._rows) or board._rows[selected_row] == 0:\n",
    "            print(f\"Invalid row number (the row number might be correct, but there are no objects left in row)\\n\")\n",
    "    \n",
    "    num_objs = 0\n",
    "    while num_objs <= 0 or num_objs > board._rows[selected_row]:\n",
    "        num_objs = int(input(f\"How many objects do you want to remove [1-{board._rows[selected_row]}]?\"))\n",
    "        if num_objs <= 0 or num_objs > board._rows[selected_row]:\n",
    "            print(f\"Invalid number of objects to be removed\\n\")\n",
    "    \n",
    "    board.nimming(Nimply(selected_row, num_objs))\n",
    "    print(f\"You have removed {num_objs}, from row {selected_row+1}\")\n",
    "    return"
   ]
  },
  {
   "cell_type": "markdown",
   "metadata": {},
   "source": [
    "### **Play Expert PC against Human Game**"
   ]
  },
  {
   "cell_type": "code",
   "execution_count": 18,
   "metadata": {},
   "outputs": [],
   "source": [
    "import time\n",
    "\n",
    "def play_nim(num_of_heaps, first='human'):\n",
    "    board = Nim(num_of_heaps)\n",
    "    board.display_board()\n",
    "\n",
    "    players = ['pc', 'human']\n",
    "\n",
    "    if first == 'human':\n",
    "        turn = 1\n",
    "    else:\n",
    "        turn = 0\n",
    "\n",
    "    while not game_over(board, players, turn):\n",
    "        if players[turn] == 'pc':\n",
    "            time.sleep(1)\n",
    "            board_nimsum = calc_nimsum(board._rows)\n",
    "            make_expert_move(board, board_nimsum)\n",
    "            board.display_board()\n",
    "        if players[turn] == 'human':\n",
    "            make_human_move(board)\n",
    "            board.display_board()\n",
    "        print(\"\\n\", end=\"\\r\")\n",
    "        turn = (turn + 1) % 2\n",
    "\n",
    "    return\n",
    "\n"
   ]
  },
  {
   "cell_type": "code",
   "execution_count": 19,
   "metadata": {},
   "outputs": [
    {
     "name": "stderr",
     "output_type": "stream",
     "text": [
      "DEBUG:root:Count: Counter({1: 1, 3: 1, 5: 1, 7: 1})\n",
      "DEBUG:root:there is at least one heap with a # > 1\n"
     ]
    },
    {
     "name": "stdout",
     "output_type": "stream",
     "text": [
      "row[1]:\t| \n",
      "row[2]:\t| | | \n",
      "row[3]:\t| | | | | \n",
      "row[4]:\t| | | | | | | \n"
     ]
    },
    {
     "name": "stderr",
     "output_type": "stream",
     "text": [
      "DEBUG:root:nimsum (0) XOR row[0] (1) = 1\n",
      "DEBUG:root:nimsum (0) XOR row[1] (3) = 3\n",
      "DEBUG:root:nimsum (0) XOR row[2] (5) = 5\n",
      "DEBUG:root:nimsum (0) XOR row[3] (7) = 7\n",
      "DEBUG:root:No ideal move found\n",
      "DEBUG:root:Count: Counter({1: 1, 3: 1, 5: 1, 6: 1})\n",
      "DEBUG:root:there is at least one heap with a # > 1\n"
     ]
    },
    {
     "name": "stdout",
     "output_type": "stream",
     "text": [
      "Removed 1, from row 4\n",
      "row[1]:\t| \n",
      "row[2]:\t| | | \n",
      "row[3]:\t| | | | | \n",
      "row[4]:\t| | | | | | \n",
      "\n",
      "\r"
     ]
    },
    {
     "name": "stderr",
     "output_type": "stream",
     "text": [
      "DEBUG:root:Count: Counter({1: 1, 0: 1, 5: 1, 6: 1})\n",
      "DEBUG:root:there is at least one heap with a # > 1\n"
     ]
    },
    {
     "name": "stdout",
     "output_type": "stream",
     "text": [
      "You have removed 3, from row 2\n",
      "row[1]:\t| \n",
      "row[2]:\t\n",
      "row[3]:\t| | | | | \n",
      "row[4]:\t| | | | | | \n",
      "\n",
      "\r"
     ]
    },
    {
     "name": "stderr",
     "output_type": "stream",
     "text": [
      "DEBUG:root:nimsum (2) XOR row[0] (1) = 3\n",
      "DEBUG:root:nimsum (2) XOR row[1] (0) = 2\n",
      "DEBUG:root:nimsum (2) XOR row[2] (5) = 7\n",
      "DEBUG:root:nimsum (2) XOR row[3] (6) = 4\n",
      "DEBUG:root:Count: Counter({1: 1, 0: 1, 5: 1, 4: 1})\n",
      "DEBUG:root:there is at least one heap with a # > 1\n"
     ]
    },
    {
     "name": "stdout",
     "output_type": "stream",
     "text": [
      "Removed 2, from row 4\n",
      "row[1]:\t| \n",
      "row[2]:\t\n",
      "row[3]:\t| | | | | \n",
      "row[4]:\t| | | | \n",
      "\n",
      "\r"
     ]
    },
    {
     "name": "stderr",
     "output_type": "stream",
     "text": [
      "DEBUG:root:Count: Counter({1: 2, 0: 1, 4: 1})\n",
      "DEBUG:root:there are more than one heaps with 1\n"
     ]
    },
    {
     "name": "stdout",
     "output_type": "stream",
     "text": [
      "You have removed 4, from row 3\n",
      "row[1]:\t| \n",
      "row[2]:\t\n",
      "row[3]:\t| \n",
      "row[4]:\t| | | | \n",
      "\n",
      "\r"
     ]
    },
    {
     "name": "stderr",
     "output_type": "stream",
     "text": [
      "DEBUG:root:Count: Counter({1: 2, 0: 2})\n",
      "DEBUG:root:there are more than one heaps with 1\n"
     ]
    },
    {
     "name": "stdout",
     "output_type": "stream",
     "text": [
      "Removed 4, from row 4\n",
      "row[1]:\t| \n",
      "row[2]:\t\n",
      "row[3]:\t| \n",
      "row[4]:\t\n",
      "\n",
      "\r"
     ]
    },
    {
     "name": "stderr",
     "output_type": "stream",
     "text": [
      "DEBUG:root:Count: Counter({0: 3, 1: 1})\n"
     ]
    },
    {
     "name": "stdout",
     "output_type": "stream",
     "text": [
      "You have removed 1, from row 1\n",
      "row[1]:\t\n",
      "row[2]:\t\n",
      "row[3]:\t| \n",
      "row[4]:\t\n",
      "\n",
      "Game Over: pc wins!\n"
     ]
    }
   ],
   "source": [
    "logging.getLogger().setLevel(logging.DEBUG)\n",
    "play_nim(4, first='pc')"
   ]
  },
  {
   "cell_type": "code",
   "execution_count": null,
   "metadata": {},
   "outputs": [],
   "source": []
  }
 ],
 "metadata": {
  "kernelspec": {
   "display_name": "Python 3.10.2 ('computational-intelligence-22-23-44TTMWXr-py3.10')",
   "language": "python",
   "name": "python3"
  },
  "language_info": {
   "codemirror_mode": {
    "name": "ipython",
    "version": 3
   },
   "file_extension": ".py",
   "mimetype": "text/x-python",
   "name": "python",
   "nbconvert_exporter": "python",
   "pygments_lexer": "ipython3",
   "version": "3.10.2"
  },
  "vscode": {
   "interpreter": {
    "hash": "068f310d441e9b183eeddd52b922178ff1d98c531a04d923af98ed3231a7b09d"
   }
  }
 },
 "nbformat": 4,
 "nbformat_minor": 2
}
