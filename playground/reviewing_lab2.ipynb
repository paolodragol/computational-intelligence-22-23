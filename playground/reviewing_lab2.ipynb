{
 "cells": [
  {
   "cell_type": "markdown",
   "metadata": {},
   "source": [
    "#### **Francesco Fiorella**'s GA Solution for Set Covering"
   ]
  },
  {
   "cell_type": "code",
   "execution_count": 1,
   "metadata": {},
   "outputs": [],
   "source": [
    "import random\n",
    "import logging\n",
    "from collections import namedtuple\n",
    "from functools import reduce\n",
    "from matplotlib import pyplot as plt"
   ]
  },
  {
   "cell_type": "code",
   "execution_count": 2,
   "metadata": {},
   "outputs": [],
   "source": [
    "def problem(N, seed=None):\n",
    "    random.seed(seed)\n",
    "    return [\n",
    "        list(set(random.randint(0, N - 1) for n in range(random.randint(N // 5, N // 2))))\n",
    "        for n in range(random.randint(N, N * 5))\n",
    "    ]"
   ]
  },
  {
   "cell_type": "code",
   "execution_count": 3,
   "metadata": {},
   "outputs": [],
   "source": [
    "logging.basicConfig(format=\"%(message)s\", level=logging.INFO)"
   ]
  },
  {
   "cell_type": "code",
   "execution_count": 122,
   "metadata": {},
   "outputs": [],
   "source": [
    "PROBLEM_SIZE = 1000 # N\n",
    "POPULATION_SIZE = 50\n",
    "OFFSPRING_SIZE = 10\n",
    "\n",
    "NUM_GENERATIONS = 5000"
   ]
  },
  {
   "cell_type": "code",
   "execution_count": 123,
   "metadata": {},
   "outputs": [],
   "source": [
    "# count the number of 1's in a number\n",
    "def bitcount(n):\n",
    "    count = 0\n",
    "    while n > 0:\n",
    "        count = count + 1\n",
    "        n = n & (n-1)\n",
    "    return count\n",
    "\n",
    "# convert a list to an int. Ex. [0, 2, 3] becomes 01101 = 13\n",
    "def list_to_int(list_):\n",
    "    list_[0] = 2**list_[0]\n",
    "    return reduce(lambda x, y: x | 2**y, list_)\n",
    "\n",
    "# creates the lists, converts them to integers, and returns a set\n",
    "def get_all_lists(N):\n",
    "    return list(set(map(lambda l: list_to_int(l), problem(N))))"
   ]
  },
  {
   "cell_type": "code",
   "execution_count": 124,
   "metadata": {},
   "outputs": [],
   "source": [
    "import numpy as np\n",
    "\n",
    "Individual = namedtuple(\"Individual\", [\"genome\", \"fitness\"])\n",
    "\n",
    "\n",
    "# fitness function\n",
    "def get_fitness(genome):\n",
    "    max = 2**PROBLEM_SIZE - 1\n",
    "    current = reduce(lambda x, y: x | y, genome)\n",
    "    return bitcount(max - current)\n",
    "\n",
    "\n",
    "# returns individuals with min fitness (the fittest) but still random\n",
    "def tournament(population, tournament_size=2):\n",
    "    return min(random.choices(population, k=tournament_size), key=lambda i: i.fitness)\n",
    "\n",
    "\n",
    "# merge or cross two individuals\n",
    "def cross_over(genome1, genome2):\n",
    "    cut = random.randint(0, PROBLEM_SIZE)\n",
    "    if random.randint(0, PROBLEM_SIZE) % 3 == 0:\n",
    "        return genome1[:cut] + genome2[cut:]\n",
    "    elif random.randint(0, PROBLEM_SIZE) % 3 == 2:\n",
    "        return genome2[:cut] + genome1[cut:]\n",
    "    else:\n",
    "        return [g1 if rand < 0.5 else g2 for g1, g2, rand in zip(genome1, genome2, np.random.random(PROBLEM_SIZE))]\n",
    "\n",
    "\n",
    "# replace a list in the individual with one \"original\" list\n",
    "def mutation(g):\n",
    "    point = random.randint(0, len(g))\n",
    "    random_ = random.choice(all_lists)\n",
    "    return list(set(g[:point] + ([random_]) + g[point + 1 :]))"
   ]
  },
  {
   "cell_type": "code",
   "execution_count": 125,
   "metadata": {},
   "outputs": [
    {
     "name": "stderr",
     "output_type": "stream",
     "text": [
      "init: pop_size=50; min=606\n"
     ]
    }
   ],
   "source": [
    "all_lists = get_all_lists(PROBLEM_SIZE)\n",
    "population = list(map(lambda l: Individual([l], get_fitness([l])), all_lists))[:POPULATION_SIZE]\n",
    "logging.info(f\"init: pop_size={len(population)}; min={min(population, key=lambda i: i.fitness)[1]}\")"
   ]
  },
  {
   "cell_type": "code",
   "execution_count": 126,
   "metadata": {},
   "outputs": [
    {
     "name": "stderr",
     "output_type": "stream",
     "text": [
      "Found a solution for N=1000\n",
      "Weight: 3645\n",
      "Number of generations: 5000\n",
      "Population size: 50\n",
      "Offspring size: 10\n"
     ]
    }
   ],
   "source": [
    "fitness_log = [(0, i.fitness) for i in population]\n",
    "\n",
    "solution = 0\n",
    "sol_weight = 0\n",
    "found = False\n",
    "\n",
    "for g in range(NUM_GENERATIONS):\n",
    "    if found:\n",
    "        # save the number of generations (for the graphic)\n",
    "        found = g\n",
    "        break\n",
    "    offspring = list()\n",
    "    for i in range(OFFSPRING_SIZE):\n",
    "        \n",
    "\n",
    "        # Explore\n",
    "        if g/NUM_GENERATIONS < 0.8:\n",
    "            # ...by mutation\n",
    "            if random.random() < 0.3:\n",
    "                p = tournament(population)\n",
    "                o = mutation(p.genome)\n",
    "                \n",
    "            # ...by cross-over\n",
    "            else:\n",
    "                p1 = tournament(population)\n",
    "                p2 = tournament(population)\n",
    "                o = cross_over(p1.genome, p2.genome)\n",
    "        # Exploit\n",
    "        else:\n",
    "            # ...by mutation\n",
    "            if random.random() < 0.8:\n",
    "                p = tournament(population, PROBLEM_SIZE//2)\n",
    "                o = mutation(p.genome)\n",
    "                \n",
    "            # ...by cross-over\n",
    "            else:\n",
    "                p1 = tournament(population, PROBLEM_SIZE//2)\n",
    "                p2 = tournament(population, PROBLEM_SIZE//2)\n",
    "                o = cross_over(p1.genome, p2.genome)\n",
    "\n",
    "\n",
    "\n",
    "        f = get_fitness(o)\n",
    "        fitness_log.append((g + 1, f))\n",
    "        # if a solution was found, check if it is the best and save it\n",
    "        # add to the offspring list only if it is not a solution\n",
    "        if f == 0:\n",
    "            weight = 0\n",
    "            for item in o:\n",
    "                weight += bitcount(item)\n",
    "            if sol_weight == 0:\n",
    "                sol_weight = weight\n",
    "                solution = o\n",
    "            else:\n",
    "                if weight < sol_weight:\n",
    "                    sol_weight = weight\n",
    "                    solution = o\n",
    "            if weight == PROBLEM_SIZE:\n",
    "                found = True\n",
    "                break\n",
    "        else:\n",
    "            offspring.append(Individual(o, f))\n",
    "    for goff in offspring:\n",
    "        if goff not in population:\n",
    "            population.append(goff)\n",
    "    population = sorted(population, key=lambda i: i.fitness)[:POPULATION_SIZE]\n",
    "\n",
    "if solution != 0:\n",
    "    logging.info(f\"Found a solution for N={PROBLEM_SIZE}\")\n",
    "    #logging.info(f\"Solution: {solution}\")\n",
    "    logging.info(f\"Weight: {sol_weight}\")\n",
    "    logging.info(f\"Number of generations: {found if found else NUM_GENERATIONS}\")\n",
    "    logging.info(f\"Population size: {POPULATION_SIZE}\")\n",
    "    logging.info(f\"Offspring size: {OFFSPRING_SIZE}\")\n",
    "else:\n",
    "    logging.info(f\"Solution for N={PROBLEM_SIZE} not found!\")"
   ]
  },
  {
   "cell_type": "code",
   "execution_count": null,
   "metadata": {},
   "outputs": [],
   "source": []
  },
  {
   "cell_type": "code",
   "execution_count": null,
   "metadata": {},
   "outputs": [],
   "source": []
  }
 ],
 "metadata": {
  "kernelspec": {
   "display_name": "Python 3.10.2 ('computational-intelligence-22-23-44TTMWXr-py3.10')",
   "language": "python",
   "name": "python3"
  },
  "language_info": {
   "codemirror_mode": {
    "name": "ipython",
    "version": 3
   },
   "file_extension": ".py",
   "mimetype": "text/x-python",
   "name": "python",
   "nbconvert_exporter": "python",
   "pygments_lexer": "ipython3",
   "version": "3.10.2"
  },
  "orig_nbformat": 4,
  "vscode": {
   "interpreter": {
    "hash": "068f310d441e9b183eeddd52b922178ff1d98c531a04d923af98ed3231a7b09d"
   }
  }
 },
 "nbformat": 4,
 "nbformat_minor": 2
}
